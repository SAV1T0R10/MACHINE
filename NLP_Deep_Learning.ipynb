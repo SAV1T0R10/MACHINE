{
 "cells": [
  {
   "cell_type": "code",
   "execution_count": 3,
   "metadata": {
    "collapsed": true,
    "id": "U_2CAn4CA-SV"
   },
   "outputs": [
    {
     "ename": "ModuleNotFoundError",
     "evalue": "No module named 'torch'",
     "output_type": "error",
     "traceback": [
      "\u001b[1;31m---------------------------------------------------------------------------\u001b[0m",
      "\u001b[1;31mModuleNotFoundError\u001b[0m                       Traceback (most recent call last)",
      "Cell \u001b[1;32mIn[3], line 3\u001b[0m\n\u001b[0;32m      1\u001b[0m \u001b[38;5;28;01mimport\u001b[39;00m \u001b[38;5;21;01mnumpy\u001b[39;00m \u001b[38;5;28;01mas\u001b[39;00m \u001b[38;5;21;01mnp\u001b[39;00m\n\u001b[0;32m      2\u001b[0m \u001b[38;5;28;01mimport\u001b[39;00m \u001b[38;5;21;01mpandas\u001b[39;00m \u001b[38;5;28;01mas\u001b[39;00m \u001b[38;5;21;01mpd\u001b[39;00m\n\u001b[1;32m----> 3\u001b[0m \u001b[38;5;28;01mimport\u001b[39;00m \u001b[38;5;21;01mtorch\u001b[39;00m\n\u001b[0;32m      4\u001b[0m \u001b[38;5;28;01mimport\u001b[39;00m \u001b[38;5;21;01mtorch\u001b[39;00m\u001b[38;5;21;01m.\u001b[39;00m\u001b[38;5;21;01mnn\u001b[39;00m \u001b[38;5;28;01mas\u001b[39;00m \u001b[38;5;21;01mnn\u001b[39;00m\n\u001b[0;32m      5\u001b[0m \u001b[38;5;28;01mimport\u001b[39;00m \u001b[38;5;21;01mtorch\u001b[39;00m\u001b[38;5;21;01m.\u001b[39;00m\u001b[38;5;21;01moptim\u001b[39;00m \u001b[38;5;28;01mas\u001b[39;00m \u001b[38;5;21;01moptim\u001b[39;00m\n",
      "\u001b[1;31mModuleNotFoundError\u001b[0m: No module named 'torch'"
     ]
    }
   ],
   "source": [
    "import numpy as np\n",
    "import pandas as pd\n",
    "import torch\n",
    "import torch.nn as nn\n",
    "import torch.optim as optim\n",
    "import torch.nn.functional as F\n",
    "from transformers import BertTokenizer, BertForSequenceClassification, AdamW\n",
    "from torch.utils.data import DataLoader, TensorDataset, random_split\n",
    "from sklearn.metrics import classification_report\n",
    "from sklearn.metrics import confusion_matrix"
   ]
  },
  {
   "cell_type": "code",
   "execution_count": 2,
   "metadata": {
    "id": "U_2CAn4CA-SV"
   },
   "outputs": [],
   "source": [
    "import tensorflow as tf\n",
    "from tensorflow.keras.preprocessing.text import Tokenizer\n",
    "from tensorflow.keras.preprocessing.sequence import pad_sequences\n",
    "from sklearn.model_selection import train_test_split\n",
    "from sklearn.metrics import classification_report\n",
    "from sklearn.feature_extraction.text import CountVectorizer\n",
    "from sklearn.metrics import accuracy_score, classification_report\n",
    "from sklearn.naive_bayes import MultinomialNB\n",
    "from sklearn.preprocessing import LabelEncoder\n",
    "import seaborn as sns\n",
    "import matplotlib.pyplot as plt\n",
    "from sklearn.preprocessing import LabelEncoder"
   ]
  },
  {
   "cell_type": "code",
   "execution_count": 4,
   "metadata": {},
   "outputs": [
    {
     "name": "stdout",
     "output_type": "stream",
     "text": [
      "Requirement already satisfied: pip in d:\\python\\lib\\site-packages (23.2.1)"
     ]
    },
    {
     "name": "stderr",
     "output_type": "stream",
     "text": [
      "WARNING: Skipping D:\\python\\Lib\\site-packages\\holoviews-1.17.1.dist-info due to invalid metadata entry 'name'\n",
      "WARNING: Skipping D:\\python\\Lib\\site-packages\\hvplot-0.8.4.dist-info due to invalid metadata entry 'name'\n",
      "WARNING: Skipping D:\\python\\Lib\\site-packages\\panel-1.2.3.dist-info due to invalid metadata entry 'name'\n",
      "WARNING: Skipping D:\\python\\Lib\\site-packages\\holoviews-1.17.1.dist-info due to invalid metadata entry 'name'\n",
      "WARNING: Skipping D:\\python\\Lib\\site-packages\\hvplot-0.8.4.dist-info due to invalid metadata entry 'name'\n",
      "WARNING: Skipping D:\\python\\Lib\\site-packages\\panel-1.2.3.dist-info due to invalid metadata entry 'name'\n",
      "WARNING: Skipping D:\\python\\Lib\\site-packages\\transformers-4.32.1.dist-info due to invalid metadata entry 'name'\n",
      "ERROR: To modify pip, please run the following command:\n",
      "D:\\python\\python.exe -m pip install --upgrade pip setuptools\n",
      "WARNING: Skipping D:\\python\\Lib\\site-packages\\holoviews-1.17.1.dist-info due to invalid metadata entry 'name'\n",
      "WARNING: Skipping D:\\python\\Lib\\site-packages\\hvplot-0.8.4.dist-info due to invalid metadata entry 'name'\n",
      "WARNING: Skipping D:\\python\\Lib\\site-packages\\panel-1.2.3.dist-info due to invalid metadata entry 'name'\n",
      "WARNING: Skipping D:\\python\\Lib\\site-packages\\holoviews-1.17.1.dist-info due to invalid metadata entry 'name'\n",
      "WARNING: Skipping D:\\python\\Lib\\site-packages\\hvplot-0.8.4.dist-info due to invalid metadata entry 'name'\n",
      "WARNING: Skipping D:\\python\\Lib\\site-packages\\panel-1.2.3.dist-info due to invalid metadata entry 'name'\n",
      "WARNING: Skipping D:\\python\\Lib\\site-packages\\holoviews-1.17.1.dist-info due to invalid metadata entry 'name'\n",
      "WARNING: Skipping D:\\python\\Lib\\site-packages\\hvplot-0.8.4.dist-info due to invalid metadata entry 'name'\n",
      "WARNING: Skipping D:\\python\\Lib\\site-packages\\panel-1.2.3.dist-info due to invalid metadata entry 'name'\n"
     ]
    },
    {
     "name": "stdout",
     "output_type": "stream",
     "text": [
      "\n",
      "Collecting pip\n",
      "  Obtaining dependency information for pip from https://files.pythonhosted.org/packages/e7/54/0c1c068542cee73d8863336e974fc881e608d0170f3af15d0c0f28644531/pip-24.1.2-py3-none-any.whl.metadata\n",
      "  Downloading pip-24.1.2-py3-none-any.whl.metadata (3.6 kB)\n",
      "Requirement already satisfied: setuptools in d:\\python\\lib\\site-packages (68.0.0)\n",
      "Collecting setuptools\n",
      "  Obtaining dependency information for setuptools from https://files.pythonhosted.org/packages/ef/15/88e46eb9387e905704b69849618e699dc2f54407d8953cc4ec4b8b46528d/setuptools-70.3.0-py3-none-any.whl.metadata\n",
      "  Downloading setuptools-70.3.0-py3-none-any.whl.metadata (5.8 kB)\n",
      "Downloading pip-24.1.2-py3-none-any.whl (1.8 MB)\n",
      "   ---------------------------------------- 0.0/1.8 MB ? eta -:--:--\n",
      "   ---------------------------------------- 0.0/1.8 MB ? eta -:--:--\n",
      "   ---------------------------------------- 0.0/1.8 MB ? eta -:--:--\n",
      "   ---------------------------------------- 0.0/1.8 MB ? eta -:--:--\n",
      "   ---------------------------------------- 0.0/1.8 MB ? eta -:--:--\n",
      "   ---------------------------------------- 0.0/1.8 MB ? eta -:--:--\n",
      "   ---------------------------------------- 0.0/1.8 MB ? eta -:--:--\n",
      "   -------- ------------------------------- 0.4/1.8 MB 1.2 MB/s eta 0:00:02\n",
      "   ----------------------- ---------------- 1.1/1.8 MB 3.1 MB/s eta 0:00:01\n",
      "   ---------------------------------------  1.8/1.8 MB 4.6 MB/s eta 0:00:01\n",
      "   ---------------------------------------- 1.8/1.8 MB 4.6 MB/s eta 0:00:00\n",
      "Downloading setuptools-70.3.0-py3-none-any.whl (931 kB)\n",
      "   ---------------------------------------- 0.0/931.1 kB ? eta -:--:--\n",
      "   --------------------------------------  921.6/931.1 kB 29.4 MB/s eta 0:00:01\n",
      "   --------------------------------------- 931.1/931.1 kB 19.6 MB/s eta 0:00:00\n"
     ]
    }
   ],
   "source": [
    "!pip install --upgrade pip setuptools"
   ]
  },
  {
   "cell_type": "code",
   "execution_count": 1,
   "metadata": {},
   "outputs": [
    {
     "name": "stdout",
     "output_type": "stream",
     "text": [
      "Collecting torch\n",
      "  Obtaining dependency information for torch from https://files.pythonhosted.org/packages/d3/1d/a257913c89572de61316461db91867f87519146e58132cdeace3d9ffbe1f/torch-2.3.1-cp311-cp311-win_amd64.whl.metadata\n",
      "  Using cached torch-2.3.1-cp311-cp311-win_amd64.whl.metadata (26 kB)\n",
      "Collecting torchvision\n",
      "  Obtaining dependency information for torchvision from https://files.pythonhosted.org/packages/e4/c3/a21a75dd2de8114a6876f16a36b033e3e62f8ade68085a711b24f4b57c17/torchvision-0.18.1-cp311-cp311-win_amd64.whl.metadata\n",
      "  Using cached torchvision-0.18.1-cp311-cp311-win_amd64.whl.metadata (6.6 kB)\n",
      "Collecting torchaudio\n",
      "  Obtaining dependency information for torchaudio from https://files.pythonhosted.org/packages/7a/bf/5af72c1c4522bcf67df140427120b0e7898b2abc5afa5da917b722983a5b/torchaudio-2.3.1-cp311-cp311-win_amd64.whl.metadata\n",
      "  Using cached torchaudio-2.3.1-cp311-cp311-win_amd64.whl.metadata (6.4 kB)\n",
      "Requirement already satisfied: filelock in d:\\python\\lib\\site-packages (from torch) (3.9.0)\n",
      "Collecting typing-extensions>=4.8.0 (from torch)\n",
      "  Obtaining dependency information for typing-extensions>=4.8.0 from https://files.pythonhosted.org/packages/26/9f/ad63fc0248c5379346306f8668cda6e2e2e9c95e01216d2b8ffd9ff037d0/typing_extensions-4.12.2-py3-none-any.whl.metadata\n",
      "  Using cached typing_extensions-4.12.2-py3-none-any.whl.metadata (3.0 kB)\n",
      "Requirement already satisfied: sympy in d:\\python\\lib\\site-packages (from torch) (1.11.1)\n",
      "Requirement already satisfied: networkx in d:\\python\\lib\\site-packages (from torch) (3.1)\n",
      "Requirement already satisfied: jinja2 in d:\\python\\lib\\site-packages (from torch) (3.1.2)\n",
      "Requirement already satisfied: fsspec in d:\\python\\lib\\site-packages (from torch) (2023.4.0)\n",
      "Collecting mkl<=2021.4.0,>=2021.1.1 (from torch)\n",
      "  Obtaining dependency information for mkl<=2021.4.0,>=2021.1.1 from https://files.pythonhosted.org/packages/fe/1c/5f6dbf18e8b73e0a5472466f0ea8d48ce9efae39bd2ff38cebf8dce61259/mkl-2021.4.0-py2.py3-none-win_amd64.whl.metadata\n",
      "  Using cached mkl-2021.4.0-py2.py3-none-win_amd64.whl.metadata (1.4 kB)\n",
      "Requirement already satisfied: numpy in d:\\python\\lib\\site-packages (from torchvision) (1.24.3)\n",
      "Requirement already satisfied: pillow!=8.3.*,>=5.3.0 in d:\\python\\lib\\site-packages (from torchvision) (10.0.1)\n",
      "Collecting intel-openmp==2021.* (from mkl<=2021.4.0,>=2021.1.1->torch)\n",
      "  Obtaining dependency information for intel-openmp==2021.* from https://files.pythonhosted.org/packages/6f/21/b590c0cc3888b24f2ac9898c41d852d7454a1695fbad34bee85dba6dc408/intel_openmp-2021.4.0-py2.py3-none-win_amd64.whl.metadata\n",
      "  Using cached intel_openmp-2021.4.0-py2.py3-none-win_amd64.whl.metadata (1.2 kB)\n",
      "Collecting tbb==2021.* (from mkl<=2021.4.0,>=2021.1.1->torch)\n",
      "  Obtaining dependency information for tbb==2021.* from https://files.pythonhosted.org/packages/f1/24/500811330b3b070e5995c3275181dbcd00c06cef26c6ebfe6ee1ca9b6223/tbb-2021.13.0-py3-none-win_amd64.whl.metadata\n",
      "  Using cached tbb-2021.13.0-py3-none-win_amd64.whl.metadata (1.1 kB)\n",
      "Requirement already satisfied: MarkupSafe>=2.0 in d:\\python\\lib\\site-packages (from jinja2->torch) (2.1.1)\n",
      "Requirement already satisfied: mpmath>=0.19 in d:\\python\\lib\\site-packages (from sympy->torch) (1.3.0)\n",
      "Using cached torch-2.3.1-cp311-cp311-win_amd64.whl (159.8 MB)\n",
      "Using cached torchvision-0.18.1-cp311-cp311-win_amd64.whl (1.2 MB)\n",
      "Using cached torchaudio-2.3.1-cp311-cp311-win_amd64.whl (2.4 MB)\n",
      "Using cached mkl-2021.4.0-py2.py3-none-win_amd64.whl (228.5 MB)\n",
      "Using cached intel_openmp-2021.4.0-py2.py3-none-win_amd64.whl (3.5 MB)\n",
      "Using cached tbb-2021.13.0-py3-none-win_amd64.whl (286 kB)\n",
      "Using cached typing_extensions-4.12.2-py3-none-any.whl (37 kB)\n",
      "Installing collected packages: tbb, intel-openmp, typing-extensions, mkl, torch, torchvision, torchaudio\n",
      "  Attempting uninstall: tbb\n",
      "    Found existing installation: TBB 0.2\n"
     ]
    },
    {
     "name": "stderr",
     "output_type": "stream",
     "text": [
      "WARNING: Skipping D:\\python\\Lib\\site-packages\\holoviews-1.17.1.dist-info due to invalid metadata entry 'name'\n",
      "WARNING: Skipping D:\\python\\Lib\\site-packages\\hvplot-0.8.4.dist-info due to invalid metadata entry 'name'\n",
      "WARNING: Skipping D:\\python\\Lib\\site-packages\\panel-1.2.3.dist-info due to invalid metadata entry 'name'\n",
      "WARNING: Skipping D:\\python\\Lib\\site-packages\\holoviews-1.17.1.dist-info due to invalid metadata entry 'name'\n",
      "WARNING: Skipping D:\\python\\Lib\\site-packages\\hvplot-0.8.4.dist-info due to invalid metadata entry 'name'\n",
      "WARNING: Skipping D:\\python\\Lib\\site-packages\\panel-1.2.3.dist-info due to invalid metadata entry 'name'\n",
      "WARNING: Skipping D:\\python\\Lib\\site-packages\\transformers-4.32.1.dist-info due to invalid metadata entry 'name'\n",
      "WARNING: Skipping D:\\python\\Lib\\site-packages\\holoviews-1.17.1.dist-info due to invalid metadata entry 'name'\n",
      "WARNING: Skipping D:\\python\\Lib\\site-packages\\hvplot-0.8.4.dist-info due to invalid metadata entry 'name'\n",
      "WARNING: Skipping D:\\python\\Lib\\site-packages\\panel-1.2.3.dist-info due to invalid metadata entry 'name'\n",
      "WARNING: Skipping D:\\python\\Lib\\site-packages\\transformers-4.32.1.dist-info due to invalid metadata entry 'name'\n",
      "    WARNING: Skipping D:\\python\\Lib\\site-packages\\holoviews-1.17.1.dist-info due to invalid metadata entry 'name'\n",
      "    WARNING: Skipping D:\\python\\Lib\\site-packages\\hvplot-0.8.4.dist-info due to invalid metadata entry 'name'\n",
      "    WARNING: Skipping D:\\python\\Lib\\site-packages\\panel-1.2.3.dist-info due to invalid metadata entry 'name'\n",
      "ERROR: Cannot uninstall 'TBB'. It is a distutils installed project and thus we cannot accurately determine which files belong to it which would lead to only a partial uninstall.\n",
      "WARNING: Skipping D:\\python\\Lib\\site-packages\\holoviews-1.17.1.dist-info due to invalid metadata entry 'name'\n",
      "WARNING: Skipping D:\\python\\Lib\\site-packages\\hvplot-0.8.4.dist-info due to invalid metadata entry 'name'\n",
      "WARNING: Skipping D:\\python\\Lib\\site-packages\\panel-1.2.3.dist-info due to invalid metadata entry 'name'\n",
      "WARNING: Skipping D:\\python\\Lib\\site-packages\\holoviews-1.17.1.dist-info due to invalid metadata entry 'name'\n",
      "WARNING: Skipping D:\\python\\Lib\\site-packages\\hvplot-0.8.4.dist-info due to invalid metadata entry 'name'\n",
      "WARNING: Skipping D:\\python\\Lib\\site-packages\\panel-1.2.3.dist-info due to invalid metadata entry 'name'\n",
      "WARNING: Skipping D:\\python\\Lib\\site-packages\\holoviews-1.17.1.dist-info due to invalid metadata entry 'name'\n",
      "WARNING: Skipping D:\\python\\Lib\\site-packages\\hvplot-0.8.4.dist-info due to invalid metadata entry 'name'\n",
      "WARNING: Skipping D:\\python\\Lib\\site-packages\\panel-1.2.3.dist-info due to invalid metadata entry 'name'\n"
     ]
    }
   ],
   "source": [
    "!pip install torch torchvision torchaudio"
   ]
  },
  {
   "cell_type": "code",
   "execution_count": 12,
   "metadata": {
    "collapsed": true
   },
   "outputs": [
    {
     "name": "stdout",
     "output_type": "stream",
     "text": [
      "Collecting tensorflow\n",
      "  Obtaining dependency information for tensorflow from https://files.pythonhosted.org/packages/1f/97/dec9dfa95cfbee631adffbeb0b7eda51ddc93a5f7e8aa8f4d95dde59e69e/tensorflow-2.16.2-cp311-cp311-win_amd64.whl.metadata\n",
      "  Downloading tensorflow-2.16.2-cp311-cp311-win_amd64.whl.metadata (3.3 kB)\n",
      "Collecting tensorflow-intel==2.16.2 (from tensorflow)\n",
      "  Obtaining dependency information for tensorflow-intel==2.16.2 from https://files.pythonhosted.org/packages/46/87/c3e4e9fe7c630f38a6984afdd1d4ed531ef9c74dc66b86f46f6bdd89d608/tensorflow_intel-2.16.2-cp311-cp311-win_amd64.whl.metadata\n",
      "  Downloading tensorflow_intel-2.16.2-cp311-cp311-win_amd64.whl.metadata (5.0 kB)\n",
      "Collecting absl-py>=1.0.0 (from tensorflow-intel==2.16.2->tensorflow)\n",
      "  Obtaining dependency information for absl-py>=1.0.0 from https://files.pythonhosted.org/packages/a2/ad/e0d3c824784ff121c03cc031f944bc7e139a8f1870ffd2845cc2dd76f6c4/absl_py-2.1.0-py3-none-any.whl.metadata\n",
      "  Downloading absl_py-2.1.0-py3-none-any.whl.metadata (2.3 kB)\n",
      "Collecting astunparse>=1.6.0 (from tensorflow-intel==2.16.2->tensorflow)\n",
      "  Obtaining dependency information for astunparse>=1.6.0 from https://files.pythonhosted.org/packages/2b/03/13dde6512ad7b4557eb792fbcf0c653af6076b81e5941d36ec61f7ce6028/astunparse-1.6.3-py2.py3-none-any.whl.metadata\n",
      "  Downloading astunparse-1.6.3-py2.py3-none-any.whl.metadata (4.4 kB)\n",
      "Collecting flatbuffers>=23.5.26 (from tensorflow-intel==2.16.2->tensorflow)\n",
      "  Obtaining dependency information for flatbuffers>=23.5.26 from https://files.pythonhosted.org/packages/41/f0/7e988a019bc54b2dbd0ad4182ef2d53488bb02e58694cd79d61369e85900/flatbuffers-24.3.25-py2.py3-none-any.whl.metadata\n",
      "  Downloading flatbuffers-24.3.25-py2.py3-none-any.whl.metadata (850 bytes)\n",
      "Collecting gast!=0.5.0,!=0.5.1,!=0.5.2,>=0.2.1 (from tensorflow-intel==2.16.2->tensorflow)\n",
      "  Obtaining dependency information for gast!=0.5.0,!=0.5.1,!=0.5.2,>=0.2.1 from https://files.pythonhosted.org/packages/a3/61/8001b38461d751cd1a0c3a6ae84346796a5758123f3ed97a1b121dfbf4f3/gast-0.6.0-py3-none-any.whl.metadata\n",
      "  Downloading gast-0.6.0-py3-none-any.whl.metadata (1.3 kB)\n",
      "Collecting google-pasta>=0.1.1 (from tensorflow-intel==2.16.2->tensorflow)\n",
      "  Obtaining dependency information for google-pasta>=0.1.1 from https://files.pythonhosted.org/packages/a3/de/c648ef6835192e6e2cc03f40b19eeda4382c49b5bafb43d88b931c4c74ac/google_pasta-0.2.0-py3-none-any.whl.metadata\n",
      "  Downloading google_pasta-0.2.0-py3-none-any.whl.metadata (814 bytes)\n",
      "Collecting h5py>=3.10.0 (from tensorflow-intel==2.16.2->tensorflow)\n",
      "  Obtaining dependency information for h5py>=3.10.0 from https://files.pythonhosted.org/packages/d8/5e/b7b83cfe60504cc4d24746aed04353af7ea8ec104e597e5ae71b8d0390cb/h5py-3.11.0-cp311-cp311-win_amd64.whl.metadata\n",
      "  Downloading h5py-3.11.0-cp311-cp311-win_amd64.whl.metadata (2.5 kB)\n",
      "Collecting libclang>=13.0.0 (from tensorflow-intel==2.16.2->tensorflow)\n",
      "  Obtaining dependency information for libclang>=13.0.0 from https://files.pythonhosted.org/packages/0b/2d/3f480b1e1d31eb3d6de5e3ef641954e5c67430d5ac93b7fa7e07589576c7/libclang-18.1.1-py2.py3-none-win_amd64.whl.metadata\n",
      "  Downloading libclang-18.1.1-py2.py3-none-win_amd64.whl.metadata (5.3 kB)\n",
      "Collecting ml-dtypes~=0.3.1 (from tensorflow-intel==2.16.2->tensorflow)\n",
      "  Obtaining dependency information for ml-dtypes~=0.3.1 from https://files.pythonhosted.org/packages/a4/db/1784b87285588788170f87e987bfb4bda218d62a70a81ebb66c94e7f9b95/ml_dtypes-0.3.2-cp311-cp311-win_amd64.whl.metadata\n",
      "  Downloading ml_dtypes-0.3.2-cp311-cp311-win_amd64.whl.metadata (20 kB)\n",
      "Collecting opt-einsum>=2.3.2 (from tensorflow-intel==2.16.2->tensorflow)\n",
      "  Obtaining dependency information for opt-einsum>=2.3.2 from https://files.pythonhosted.org/packages/bc/19/404708a7e54ad2798907210462fd950c3442ea51acc8790f3da48d2bee8b/opt_einsum-3.3.0-py3-none-any.whl.metadata\n",
      "  Downloading opt_einsum-3.3.0-py3-none-any.whl.metadata (6.5 kB)\n",
      "Requirement already satisfied: packaging in d:\\python\\lib\\site-packages (from tensorflow-intel==2.16.2->tensorflow) (23.1)\n",
      "Collecting protobuf!=4.21.0,!=4.21.1,!=4.21.2,!=4.21.3,!=4.21.4,!=4.21.5,<5.0.0dev,>=3.20.3 (from tensorflow-intel==2.16.2->tensorflow)\n",
      "  Obtaining dependency information for protobuf!=4.21.0,!=4.21.1,!=4.21.2,!=4.21.3,!=4.21.4,!=4.21.5,<5.0.0dev,>=3.20.3 from https://files.pythonhosted.org/packages/ad/6e/1bed3b7c904cc178cb8ee8dbaf72934964452b3de95b7a63412591edb93c/protobuf-4.25.3-cp310-abi3-win_amd64.whl.metadata\n",
      "  Downloading protobuf-4.25.3-cp310-abi3-win_amd64.whl.metadata (541 bytes)\n",
      "Requirement already satisfied: requests<3,>=2.21.0 in d:\\python\\lib\\site-packages (from tensorflow-intel==2.16.2->tensorflow) (2.31.0)\n",
      "Requirement already satisfied: setuptools in d:\\python\\lib\\site-packages (from tensorflow-intel==2.16.2->tensorflow) (68.0.0)\n",
      "Requirement already satisfied: six>=1.12.0 in d:\\python\\lib\\site-packages (from tensorflow-intel==2.16.2->tensorflow) (1.16.0)\n",
      "Collecting termcolor>=1.1.0 (from tensorflow-intel==2.16.2->tensorflow)\n",
      "  Obtaining dependency information for termcolor>=1.1.0 from https://files.pythonhosted.org/packages/d9/5f/8c716e47b3a50cbd7c146f45881e11d9414def768b7cd9c5e6650ec2a80a/termcolor-2.4.0-py3-none-any.whl.metadata\n",
      "  Downloading termcolor-2.4.0-py3-none-any.whl.metadata (6.1 kB)\n",
      "Requirement already satisfied: typing-extensions>=3.6.6 in d:\\python\\lib\\site-packages (from tensorflow-intel==2.16.2->tensorflow) (4.7.1)\n",
      "Requirement already satisfied: wrapt>=1.11.0 in d:\\python\\lib\\site-packages (from tensorflow-intel==2.16.2->tensorflow) (1.14.1)\n",
      "Collecting grpcio<2.0,>=1.24.3 (from tensorflow-intel==2.16.2->tensorflow)\n",
      "  Obtaining dependency information for grpcio<2.0,>=1.24.3 from https://files.pythonhosted.org/packages/d4/f0/4a936fbe350bead6fa885c9dcb2c269a85603dc0cbeb35cbcf107c123131/grpcio-1.64.1-cp311-cp311-win_amd64.whl.metadata\n",
      "  Downloading grpcio-1.64.1-cp311-cp311-win_amd64.whl.metadata (3.4 kB)\n",
      "Collecting tensorboard<2.17,>=2.16 (from tensorflow-intel==2.16.2->tensorflow)\n",
      "  Obtaining dependency information for tensorboard<2.17,>=2.16 from https://files.pythonhosted.org/packages/3a/d0/b97889ffa769e2d1fdebb632084d5e8b53fc299d43a537acee7ec0c021a3/tensorboard-2.16.2-py3-none-any.whl.metadata\n",
      "  Downloading tensorboard-2.16.2-py3-none-any.whl.metadata (1.6 kB)\n",
      "Collecting keras>=3.0.0 (from tensorflow-intel==2.16.2->tensorflow)\n",
      "  Obtaining dependency information for keras>=3.0.0 from https://files.pythonhosted.org/packages/46/43/03fa53f027e78af4a6bee3564d05cb34d9f5b924dc69c85f8ef5cb950ff1/keras-3.4.1-py3-none-any.whl.metadata\n",
      "  Downloading keras-3.4.1-py3-none-any.whl.metadata (5.8 kB)\n",
      "Collecting tensorflow-io-gcs-filesystem>=0.23.1 (from tensorflow-intel==2.16.2->tensorflow)\n",
      "  Obtaining dependency information for tensorflow-io-gcs-filesystem>=0.23.1 from https://files.pythonhosted.org/packages/ac/4e/9566a313927be582ca99455a9523a097c7888fc819695bdc08415432b202/tensorflow_io_gcs_filesystem-0.31.0-cp311-cp311-win_amd64.whl.metadata\n",
      "  Downloading tensorflow_io_gcs_filesystem-0.31.0-cp311-cp311-win_amd64.whl.metadata (14 kB)\n",
      "Requirement already satisfied: numpy<2.0.0,>=1.23.5 in d:\\python\\lib\\site-packages (from tensorflow-intel==2.16.2->tensorflow) (1.24.3)\n",
      "Requirement already satisfied: wheel<1.0,>=0.23.0 in d:\\python\\lib\\site-packages (from astunparse>=1.6.0->tensorflow-intel==2.16.2->tensorflow) (0.38.4)\n",
      "Collecting rich (from keras>=3.0.0->tensorflow-intel==2.16.2->tensorflow)\n",
      "  Obtaining dependency information for rich from https://files.pythonhosted.org/packages/87/67/a37f6214d0e9fe57f6ae54b2956d550ca8365857f42a1ce0392bb21d9410/rich-13.7.1-py3-none-any.whl.metadata\n",
      "  Downloading rich-13.7.1-py3-none-any.whl.metadata (18 kB)\n",
      "Collecting namex (from keras>=3.0.0->tensorflow-intel==2.16.2->tensorflow)\n",
      "  Obtaining dependency information for namex from https://files.pythonhosted.org/packages/73/59/7854fbfb59f8ae35483ce93493708be5942ebb6328cd85b3a609df629736/namex-0.0.8-py3-none-any.whl.metadata\n",
      "  Downloading namex-0.0.8-py3-none-any.whl.metadata (246 bytes)\n",
      "Collecting optree (from keras>=3.0.0->tensorflow-intel==2.16.2->tensorflow)\n",
      "  Obtaining dependency information for optree from https://files.pythonhosted.org/packages/12/26/ce14a11c328bfcf29341da42342cc48e4d65fb44e4e559c9e4036a88b750/optree-0.12.1-cp311-cp311-win_amd64.whl.metadata\n",
      "  Downloading optree-0.12.1-cp311-cp311-win_amd64.whl.metadata (48 kB)\n",
      "     ---------------------------------------- 0.0/48.7 kB ? eta -:--:--\n",
      "     ---------------------------------------- 48.7/48.7 kB 1.2 MB/s eta 0:00:00\n",
      "Requirement already satisfied: charset-normalizer<4,>=2 in d:\\python\\lib\\site-packages (from requests<3,>=2.21.0->tensorflow-intel==2.16.2->tensorflow) (2.0.4)\n",
      "Requirement already satisfied: idna<4,>=2.5 in d:\\python\\lib\\site-packages (from requests<3,>=2.21.0->tensorflow-intel==2.16.2->tensorflow) (3.4)\n",
      "Requirement already satisfied: urllib3<3,>=1.21.1 in d:\\python\\lib\\site-packages (from requests<3,>=2.21.0->tensorflow-intel==2.16.2->tensorflow) (1.26.16)\n",
      "Requirement already satisfied: certifi>=2017.4.17 in d:\\python\\lib\\site-packages (from requests<3,>=2.21.0->tensorflow-intel==2.16.2->tensorflow) (2023.7.22)\n",
      "Requirement already satisfied: markdown>=2.6.8 in d:\\python\\lib\\site-packages (from tensorboard<2.17,>=2.16->tensorflow-intel==2.16.2->tensorflow) (3.4.1)\n",
      "Collecting tensorboard-data-server<0.8.0,>=0.7.0 (from tensorboard<2.17,>=2.16->tensorflow-intel==2.16.2->tensorflow)\n",
      "  Obtaining dependency information for tensorboard-data-server<0.8.0,>=0.7.0 from https://files.pythonhosted.org/packages/7a/13/e503968fefabd4c6b2650af21e110aa8466fe21432cd7c43a84577a89438/tensorboard_data_server-0.7.2-py3-none-any.whl.metadata\n",
      "  Downloading tensorboard_data_server-0.7.2-py3-none-any.whl.metadata (1.1 kB)\n",
      "Requirement already satisfied: werkzeug>=1.0.1 in d:\\python\\lib\\site-packages (from tensorboard<2.17,>=2.16->tensorflow-intel==2.16.2->tensorflow) (2.2.3)\n",
      "Requirement already satisfied: MarkupSafe>=2.1.1 in d:\\python\\lib\\site-packages (from werkzeug>=1.0.1->tensorboard<2.17,>=2.16->tensorflow-intel==2.16.2->tensorflow) (2.1.1)\n",
      "Requirement already satisfied: markdown-it-py>=2.2.0 in d:\\python\\lib\\site-packages (from rich->keras>=3.0.0->tensorflow-intel==2.16.2->tensorflow) (2.2.0)\n",
      "Requirement already satisfied: pygments<3.0.0,>=2.13.0 in d:\\python\\lib\\site-packages (from rich->keras>=3.0.0->tensorflow-intel==2.16.2->tensorflow) (2.15.1)\n",
      "Requirement already satisfied: mdurl~=0.1 in d:\\python\\lib\\site-packages (from markdown-it-py>=2.2.0->rich->keras>=3.0.0->tensorflow-intel==2.16.2->tensorflow) (0.1.0)\n",
      "Downloading tensorflow-2.16.2-cp311-cp311-win_amd64.whl (2.1 kB)\n",
      "Downloading tensorflow_intel-2.16.2-cp311-cp311-win_amd64.whl (377.0 MB)\n",
      "   ---------------------------------------- 0.0/377.0 MB ? eta -:--:--\n",
      "   ---------------------------------------- 0.3/377.0 MB 10.6 MB/s eta 0:00:36\n",
      "   ---------------------------------------- 1.2/377.0 MB 15.1 MB/s eta 0:00:25\n",
      "   ---------------------------------------- 2.0/377.0 MB 16.3 MB/s eta 0:00:23\n",
      "   ---------------------------------------- 3.5/377.0 MB 20.0 MB/s eta 0:00:19\n",
      "    --------------------------------------- 4.9/377.0 MB 22.4 MB/s eta 0:00:17\n",
      "    --------------------------------------- 6.2/377.0 MB 23.3 MB/s eta 0:00:16\n",
      "    --------------------------------------- 7.3/377.0 MB 23.4 MB/s eta 0:00:16\n",
      "    --------------------------------------- 8.6/377.0 MB 23.9 MB/s eta 0:00:16\n",
      "    --------------------------------------- 9.4/377.0 MB 23.2 MB/s eta 0:00:16\n",
      "   - -------------------------------------- 10.8/377.0 MB 25.2 MB/s eta 0:00:15\n",
      "   - -------------------------------------- 12.0/377.0 MB 25.2 MB/s eta 0:00:15\n",
      "   - -------------------------------------- 13.5/377.0 MB 27.3 MB/s eta 0:00:14\n",
      "   - -------------------------------------- 15.0/377.0 MB 27.3 MB/s eta 0:00:14\n",
      "   - -------------------------------------- 16.1/377.0 MB 26.2 MB/s eta 0:00:14\n",
      "   - -------------------------------------- 17.3/377.0 MB 26.2 MB/s eta 0:00:14\n",
      "   - -------------------------------------- 18.8/377.0 MB 26.2 MB/s eta 0:00:14\n",
      "   -- ------------------------------------- 20.3/377.0 MB 28.4 MB/s eta 0:00:13\n",
      "   -- ------------------------------------- 21.3/377.0 MB 27.3 MB/s eta 0:00:14\n",
      "   -- ------------------------------------- 22.8/377.0 MB 28.5 MB/s eta 0:00:13\n",
      "   -- ------------------------------------- 24.5/377.0 MB 28.5 MB/s eta 0:00:13\n",
      "   -- ------------------------------------- 26.1/377.0 MB 28.5 MB/s eta 0:00:13\n",
      "   -- ------------------------------------- 27.1/377.0 MB 31.2 MB/s eta 0:00:12\n",
      "   --- ------------------------------------ 28.6/377.0 MB 29.7 MB/s eta 0:00:12\n",
      "   --- ------------------------------------ 29.2/377.0 MB 27.3 MB/s eta 0:00:13\n",
      "   --- ------------------------------------ 29.2/377.0 MB 26.2 MB/s eta 0:00:14\n",
      "   --- ------------------------------------ 30.3/377.0 MB 23.4 MB/s eta 0:00:15\n",
      "   --- ------------------------------------ 31.8/377.0 MB 24.3 MB/s eta 0:00:15\n",
      "   --- ------------------------------------ 33.4/377.0 MB 24.2 MB/s eta 0:00:15\n",
      "   --- ------------------------------------ 35.0/377.0 MB 24.2 MB/s eta 0:00:15\n",
      "   --- ------------------------------------ 36.7/377.0 MB 24.2 MB/s eta 0:00:15\n",
      "   ---- ----------------------------------- 38.2/377.0 MB 27.3 MB/s eta 0:00:13\n",
      "   ---- ----------------------------------- 39.4/377.0 MB 28.4 MB/s eta 0:00:12\n",
      "   ---- ----------------------------------- 39.4/377.0 MB 28.4 MB/s eta 0:00:12\n",
      "   ---- ----------------------------------- 41.1/377.0 MB 29.7 MB/s eta 0:00:12\n",
      "   ---- ----------------------------------- 41.4/377.0 MB 25.2 MB/s eta 0:00:14\n",
      "   ---- ----------------------------------- 41.9/377.0 MB 23.4 MB/s eta 0:00:15\n",
      "   ---- ----------------------------------- 43.3/377.0 MB 23.4 MB/s eta 0:00:15\n",
      "   ---- ----------------------------------- 44.4/377.0 MB 23.4 MB/s eta 0:00:15\n",
      "   ---- ----------------------------------- 45.6/377.0 MB 21.8 MB/s eta 0:00:16\n",
      "   ----- ---------------------------------- 47.3/377.0 MB 21.9 MB/s eta 0:00:16\n",
      "   ----- ---------------------------------- 48.4/377.0 MB 21.1 MB/s eta 0:00:16\n",
      "   ----- ---------------------------------- 49.8/377.0 MB 25.2 MB/s eta 0:00:13\n",
      "   ----- ---------------------------------- 50.9/377.0 MB 22.6 MB/s eta 0:00:15\n",
      "   ----- ---------------------------------- 52.1/377.0 MB 27.3 MB/s eta 0:00:12\n",
      "   ----- ---------------------------------- 53.4/377.0 MB 25.2 MB/s eta 0:00:13\n",
      "   ----- ---------------------------------- 54.8/377.0 MB 28.4 MB/s eta 0:00:12\n",
      "   ----- ---------------------------------- 55.7/377.0 MB 26.2 MB/s eta 0:00:13\n",
      "   ------ --------------------------------- 57.2/377.0 MB 25.2 MB/s eta 0:00:13\n",
      "   ------ --------------------------------- 58.8/377.0 MB 27.3 MB/s eta 0:00:12\n",
      "   ------ --------------------------------- 60.1/377.0 MB 28.5 MB/s eta 0:00:12\n",
      "   ------ --------------------------------- 61.7/377.0 MB 29.7 MB/s eta 0:00:11\n",
      "   ------ --------------------------------- 63.3/377.0 MB 29.7 MB/s eta 0:00:11\n",
      "   ------ --------------------------------- 64.6/377.0 MB 31.2 MB/s eta 0:00:11\n",
      "   ------ --------------------------------- 65.9/377.0 MB 31.2 MB/s eta 0:00:10\n",
      "   ------- -------------------------------- 66.8/377.0 MB 29.7 MB/s eta 0:00:11\n",
      "   ------- -------------------------------- 67.5/377.0 MB 27.3 MB/s eta 0:00:12\n",
      "   ------- -------------------------------- 67.8/377.0 MB 25.2 MB/s eta 0:00:13\n",
      "   ------- -------------------------------- 68.5/377.0 MB 23.4 MB/s eta 0:00:14\n",
      "   ------- -------------------------------- 69.2/377.0 MB 21.8 MB/s eta 0:00:15\n",
      "   ------- -------------------------------- 69.7/377.0 MB 20.5 MB/s eta 0:00:16\n",
      "   ------- -------------------------------- 70.3/377.0 MB 19.3 MB/s eta 0:00:16\n",
      "   ------- -------------------------------- 71.2/377.0 MB 18.7 MB/s eta 0:00:17\n",
      "   ------- -------------------------------- 72.0/377.0 MB 18.2 MB/s eta 0:00:17\n",
      "   ------- -------------------------------- 72.8/377.0 MB 17.2 MB/s eta 0:00:18\n",
      "   ------- -------------------------------- 73.6/377.0 MB 16.8 MB/s eta 0:00:19\n",
      "   ------- -------------------------------- 74.6/377.0 MB 16.4 MB/s eta 0:00:19\n",
      "   -------- ------------------------------- 75.6/377.0 MB 16.0 MB/s eta 0:00:19\n",
      "   -------- ------------------------------- 76.7/377.0 MB 16.0 MB/s eta 0:00:19\n",
      "   -------- ------------------------------- 77.7/377.0 MB 16.8 MB/s eta 0:00:18\n",
      "   -------- ------------------------------- 78.7/377.0 MB 17.7 MB/s eta 0:00:17\n",
      "   -------- ------------------------------- 79.7/377.0 MB 18.2 MB/s eta 0:00:17\n",
      "   -------- ------------------------------- 80.8/377.0 MB 19.8 MB/s eta 0:00:15\n",
      "   -------- ------------------------------- 81.7/377.0 MB 19.8 MB/s eta 0:00:15\n",
      "   -------- ------------------------------- 82.7/377.0 MB 20.5 MB/s eta 0:00:15\n",
      "   -------- ------------------------------- 83.7/377.0 MB 21.1 MB/s eta 0:00:14\n",
      "   -------- ------------------------------- 84.4/377.0 MB 20.5 MB/s eta 0:00:15\n",
      "   --------- ------------------------------ 85.4/377.0 MB 21.1 MB/s eta 0:00:14\n",
      "   --------- ------------------------------ 86.5/377.0 MB 20.5 MB/s eta 0:00:15\n",
      "   --------- ------------------------------ 87.6/377.0 MB 21.1 MB/s eta 0:00:14\n",
      "   --------- ------------------------------ 88.4/377.0 MB 21.1 MB/s eta 0:00:14\n",
      "   --------- ------------------------------ 89.4/377.0 MB 20.5 MB/s eta 0:00:15\n",
      "   --------- ------------------------------ 90.7/377.0 MB 20.5 MB/s eta 0:00:14\n",
      "   --------- ------------------------------ 92.0/377.0 MB 22.6 MB/s eta 0:00:13\n",
      "   --------- ------------------------------ 93.3/377.0 MB 22.6 MB/s eta 0:00:13\n",
      "   ---------- ----------------------------- 94.7/377.0 MB 23.4 MB/s eta 0:00:13\n",
      "   ---------- ----------------------------- 95.7/377.0 MB 24.2 MB/s eta 0:00:12\n",
      "   ---------- ----------------------------- 97.0/377.0 MB 24.3 MB/s eta 0:00:12\n",
      "   ---------- ----------------------------- 97.9/377.0 MB 25.1 MB/s eta 0:00:12\n",
      "   ---------- ----------------------------- 99.4/377.0 MB 26.2 MB/s eta 0:00:11\n",
      "   ---------- ---------------------------- 100.9/377.0 MB 27.3 MB/s eta 0:00:11\n",
      "   ---------- ---------------------------- 102.1/377.0 MB 26.2 MB/s eta 0:00:11\n",
      "   ---------- ---------------------------- 103.4/377.0 MB 26.2 MB/s eta 0:00:11\n",
      "   ---------- ---------------------------- 104.4/377.0 MB 25.1 MB/s eta 0:00:11\n",
      "   ---------- ---------------------------- 105.4/377.0 MB 26.2 MB/s eta 0:00:11\n",
      "   ----------- --------------------------- 106.9/377.0 MB 26.2 MB/s eta 0:00:11\n",
      "   ----------- --------------------------- 108.3/377.0 MB 27.3 MB/s eta 0:00:10\n",
      "   ----------- --------------------------- 109.4/377.0 MB 28.4 MB/s eta 0:00:10\n",
      "   ----------- --------------------------- 111.0/377.0 MB 26.2 MB/s eta 0:00:11\n",
      "   ----------- --------------------------- 112.5/377.0 MB 27.3 MB/s eta 0:00:10\n",
      "   ----------- --------------------------- 114.1/377.0 MB 28.4 MB/s eta 0:00:10\n",
      "   ----------- --------------------------- 115.7/377.0 MB 29.8 MB/s eta 0:00:09\n",
      "   ------------ -------------------------- 117.3/377.0 MB 32.7 MB/s eta 0:00:08\n",
      "   ------------ -------------------------- 118.8/377.0 MB 31.2 MB/s eta 0:00:09\n",
      "   ------------ -------------------------- 120.5/377.0 MB 32.7 MB/s eta 0:00:08\n",
      "   ------------ -------------------------- 121.6/377.0 MB 32.8 MB/s eta 0:00:08\n",
      "   ------------ -------------------------- 123.1/377.0 MB 31.2 MB/s eta 0:00:09\n",
      "   ------------ -------------------------- 124.8/377.0 MB 31.1 MB/s eta 0:00:09\n",
      "   ------------- ------------------------- 126.2/377.0 MB 32.7 MB/s eta 0:00:08\n",
      "   ------------- ------------------------- 127.2/377.0 MB 29.8 MB/s eta 0:00:09\n",
      "   ------------- ------------------------- 128.1/377.0 MB 28.5 MB/s eta 0:00:09\n",
      "   ------------- ------------------------- 129.5/377.0 MB 28.5 MB/s eta 0:00:09\n",
      "   ------------- ------------------------- 131.1/377.0 MB 29.7 MB/s eta 0:00:09\n",
      "   ------------- ------------------------- 132.2/377.0 MB 28.4 MB/s eta 0:00:09\n",
      "   ------------- ------------------------- 133.8/377.0 MB 27.3 MB/s eta 0:00:09\n",
      "   ------------- ------------------------- 134.6/377.0 MB 26.2 MB/s eta 0:00:10\n",
      "   ------------- ------------------------- 134.8/377.0 MB 23.4 MB/s eta 0:00:11\n",
      "   -------------- ------------------------ 135.4/377.0 MB 22.6 MB/s eta 0:00:11\n",
      "   -------------- ------------------------ 136.3/377.0 MB 21.1 MB/s eta 0:00:12\n",
      "   -------------- ------------------------ 136.9/377.0 MB 20.5 MB/s eta 0:00:12\n",
      "   -------------- ------------------------ 137.0/377.0 MB 20.5 MB/s eta 0:00:12\n",
      "   -------------- ------------------------ 137.1/377.0 MB 17.7 MB/s eta 0:00:14\n",
      "   -------------- ------------------------ 138.3/377.0 MB 17.3 MB/s eta 0:00:14\n",
      "   -------------- ------------------------ 138.3/377.0 MB 17.7 MB/s eta 0:00:14\n",
      "   -------------- ------------------------ 138.9/377.0 MB 16.0 MB/s eta 0:00:15\n",
      "   -------------- ------------------------ 139.2/377.0 MB 15.6 MB/s eta 0:00:16\n",
      "   -------------- ------------------------ 139.7/377.0 MB 14.9 MB/s eta 0:00:16\n",
      "   -------------- ------------------------ 140.0/377.0 MB 14.2 MB/s eta 0:00:17\n",
      "   -------------- ------------------------ 140.5/377.0 MB 13.9 MB/s eta 0:00:17\n",
      "   -------------- ------------------------ 141.1/377.0 MB 13.4 MB/s eta 0:00:18\n",
      "   -------------- ------------------------ 141.8/377.0 MB 13.1 MB/s eta 0:00:18\n",
      "   -------------- ------------------------ 142.5/377.0 MB 13.1 MB/s eta 0:00:18\n",
      "   -------------- ------------------------ 143.2/377.0 MB 13.1 MB/s eta 0:00:18\n",
      "   -------------- ------------------------ 143.6/377.0 MB 12.4 MB/s eta 0:00:19\n",
      "   -------------- ------------------------ 144.2/377.0 MB 12.4 MB/s eta 0:00:19\n",
      "   -------------- ------------------------ 144.9/377.0 MB 12.6 MB/s eta 0:00:19\n",
      "   --------------- ----------------------- 145.8/377.0 MB 13.4 MB/s eta 0:00:18\n",
      "   --------------- ----------------------- 146.6/377.0 MB 13.6 MB/s eta 0:00:17\n",
      "   --------------- ----------------------- 147.5/377.0 MB 16.4 MB/s eta 0:00:15\n",
      "   --------------- ----------------------- 148.3/377.0 MB 15.6 MB/s eta 0:00:15\n",
      "   --------------- ----------------------- 148.9/377.0 MB 16.8 MB/s eta 0:00:14\n",
      "   --------------- ----------------------- 149.6/377.0 MB 17.2 MB/s eta 0:00:14\n",
      "   --------------- ----------------------- 150.1/377.0 MB 17.2 MB/s eta 0:00:14\n",
      "   --------------- ----------------------- 150.9/377.0 MB 18.2 MB/s eta 0:00:13\n",
      "   --------------- ----------------------- 151.9/377.0 MB 18.2 MB/s eta 0:00:13\n",
      "   --------------- ----------------------- 152.6/377.0 MB 18.7 MB/s eta 0:00:12\n",
      "   --------------- ----------------------- 153.5/377.0 MB 18.2 MB/s eta 0:00:13\n",
      "   --------------- ----------------------- 154.2/377.0 MB 18.2 MB/s eta 0:00:13\n",
      "   ---------------- ---------------------- 154.9/377.0 MB 18.2 MB/s eta 0:00:13\n",
      "   ---------------- ---------------------- 155.8/377.0 MB 17.7 MB/s eta 0:00:13\n",
      "   ---------------- ---------------------- 156.9/377.0 MB 18.2 MB/s eta 0:00:13\n",
      "   ---------------- ---------------------- 157.9/377.0 MB 18.2 MB/s eta 0:00:13\n",
      "   ---------------- ---------------------- 158.4/377.0 MB 17.2 MB/s eta 0:00:13\n",
      "   ---------------- ---------------------- 159.3/377.0 MB 17.7 MB/s eta 0:00:13\n",
      "   ---------------- ---------------------- 160.2/377.0 MB 17.7 MB/s eta 0:00:13\n",
      "   ---------------- ---------------------- 161.3/377.0 MB 18.2 MB/s eta 0:00:12\n",
      "   ---------------- ---------------------- 162.2/377.0 MB 18.2 MB/s eta 0:00:12\n",
      "   ---------------- ---------------------- 163.2/377.0 MB 19.3 MB/s eta 0:00:12\n",
      "   ---------------- ---------------------- 164.1/377.0 MB 19.9 MB/s eta 0:00:11\n",
      "   ----------------- --------------------- 165.2/377.0 MB 19.8 MB/s eta 0:00:11\n",
      "   ----------------- --------------------- 166.1/377.0 MB 19.8 MB/s eta 0:00:11\n",
      "   ----------------- --------------------- 167.2/377.0 MB 19.8 MB/s eta 0:00:11\n",
      "   ----------------- --------------------- 168.3/377.0 MB 21.1 MB/s eta 0:00:10\n",
      "   ----------------- --------------------- 169.3/377.0 MB 21.1 MB/s eta 0:00:10\n",
      "   ----------------- --------------------- 170.2/377.0 MB 21.1 MB/s eta 0:00:10\n",
      "   ----------------- --------------------- 171.2/377.0 MB 21.1 MB/s eta 0:00:10\n",
      "   ----------------- --------------------- 172.3/377.0 MB 21.1 MB/s eta 0:00:10\n",
      "   ----------------- --------------------- 173.2/377.0 MB 20.5 MB/s eta 0:00:10\n",
      "   ------------------ -------------------- 174.2/377.0 MB 20.5 MB/s eta 0:00:10\n",
      "   ------------------ -------------------- 175.2/377.0 MB 21.1 MB/s eta 0:00:10\n",
      "   ------------------ -------------------- 175.9/377.0 MB 20.5 MB/s eta 0:00:10\n",
      "   ------------------ -------------------- 176.9/377.0 MB 21.1 MB/s eta 0:00:10\n",
      "   ------------------ -------------------- 178.1/377.0 MB 21.1 MB/s eta 0:00:10\n",
      "   ------------------ -------------------- 178.8/377.0 MB 19.8 MB/s eta 0:00:10\n",
      "   ------------------ -------------------- 179.7/377.0 MB 21.1 MB/s eta 0:00:10\n",
      "   ------------------ -------------------- 180.8/377.0 MB 19.9 MB/s eta 0:00:10\n",
      "   ------------------ -------------------- 181.6/377.0 MB 20.5 MB/s eta 0:00:10\n",
      "   ------------------ -------------------- 182.4/377.0 MB 19.8 MB/s eta 0:00:10\n",
      "   ------------------ -------------------- 183.3/377.0 MB 19.9 MB/s eta 0:00:10\n",
      "   ------------------- ------------------- 184.2/377.0 MB 19.3 MB/s eta 0:00:11\n",
      "   ------------------- ------------------- 185.1/377.0 MB 18.7 MB/s eta 0:00:11\n",
      "   ------------------- ------------------- 185.8/377.0 MB 19.2 MB/s eta 0:00:10\n",
      "   ------------------- ------------------- 186.9/377.0 MB 19.2 MB/s eta 0:00:10\n",
      "   ------------------- ------------------- 188.0/377.0 MB 19.3 MB/s eta 0:00:10\n",
      "   ------------------- ------------------- 188.9/377.0 MB 19.3 MB/s eta 0:00:10\n",
      "   ------------------- ------------------- 189.8/377.0 MB 19.3 MB/s eta 0:00:10\n",
      "   ------------------- ------------------- 190.9/377.0 MB 19.3 MB/s eta 0:00:10\n",
      "   ------------------- ------------------- 191.6/377.0 MB 19.3 MB/s eta 0:00:10\n",
      "   ------------------- ------------------- 192.7/377.0 MB 19.9 MB/s eta 0:00:10\n",
      "   -------------------- ------------------ 193.4/377.0 MB 19.2 MB/s eta 0:00:10\n",
      "   -------------------- ------------------ 194.4/377.0 MB 19.3 MB/s eta 0:00:10\n",
      "   -------------------- ------------------ 195.4/377.0 MB 19.3 MB/s eta 0:00:10\n",
      "   -------------------- ------------------ 196.3/377.0 MB 19.3 MB/s eta 0:00:10\n",
      "   -------------------- ------------------ 197.2/377.0 MB 19.8 MB/s eta 0:00:10\n",
      "   -------------------- ------------------ 198.2/377.0 MB 19.2 MB/s eta 0:00:10\n",
      "   -------------------- ------------------ 199.3/377.0 MB 20.5 MB/s eta 0:00:09\n",
      "   -------------------- ------------------ 200.2/377.0 MB 19.9 MB/s eta 0:00:09\n",
      "   -------------------- ------------------ 201.2/377.0 MB 20.5 MB/s eta 0:00:09\n",
      "   -------------------- ------------------ 201.9/377.0 MB 20.5 MB/s eta 0:00:09\n",
      "   -------------------- ------------------ 202.6/377.0 MB 19.3 MB/s eta 0:00:10\n",
      "   --------------------- ----------------- 203.3/377.0 MB 19.2 MB/s eta 0:00:10\n",
      "   --------------------- ----------------- 204.0/377.0 MB 20.5 MB/s eta 0:00:09\n",
      "   --------------------- ----------------- 204.4/377.0 MB 19.3 MB/s eta 0:00:09\n",
      "   --------------------- ----------------- 204.9/377.0 MB 19.3 MB/s eta 0:00:09\n",
      "   --------------------- ----------------- 205.4/377.0 MB 18.7 MB/s eta 0:00:10\n",
      "   --------------------- ----------------- 205.9/377.0 MB 18.2 MB/s eta 0:00:10\n",
      "   --------------------- ----------------- 206.7/377.0 MB 18.2 MB/s eta 0:00:10\n",
      "   --------------------- ----------------- 207.8/377.0 MB 18.7 MB/s eta 0:00:10\n",
      "   --------------------- ----------------- 208.6/377.0 MB 18.2 MB/s eta 0:00:10\n",
      "   --------------------- ----------------- 209.4/377.0 MB 17.2 MB/s eta 0:00:10\n",
      "   --------------------- ----------------- 210.4/377.0 MB 17.7 MB/s eta 0:00:10\n",
      "   --------------------- ----------------- 211.4/377.0 MB 17.7 MB/s eta 0:00:10\n",
      "   --------------------- ----------------- 212.3/377.0 MB 18.2 MB/s eta 0:00:10\n",
      "   ---------------------- ---------------- 212.8/377.0 MB 18.2 MB/s eta 0:00:10\n",
      "   ---------------------- ---------------- 213.8/377.0 MB 17.7 MB/s eta 0:00:10\n",
      "   ---------------------- ---------------- 214.6/377.0 MB 18.2 MB/s eta 0:00:09\n",
      "   ---------------------- ---------------- 215.5/377.0 MB 19.2 MB/s eta 0:00:09\n",
      "   ---------------------- ---------------- 216.7/377.0 MB 20.5 MB/s eta 0:00:08\n",
      "   ---------------------- ---------------- 217.3/377.0 MB 19.3 MB/s eta 0:00:09\n",
      "   ---------------------- ---------------- 218.3/377.0 MB 19.3 MB/s eta 0:00:09\n",
      "   ---------------------- ---------------- 219.3/377.0 MB 19.8 MB/s eta 0:00:08\n",
      "   ---------------------- ---------------- 219.8/377.0 MB 19.9 MB/s eta 0:00:08\n",
      "   ---------------------- ---------------- 220.4/377.0 MB 19.3 MB/s eta 0:00:09\n",
      "   ---------------------- ---------------- 221.2/377.0 MB 18.7 MB/s eta 0:00:09\n",
      "   ---------------------- ---------------- 221.7/377.0 MB 18.7 MB/s eta 0:00:09\n",
      "   ----------------------- --------------- 222.4/377.0 MB 18.7 MB/s eta 0:00:09\n",
      "   ----------------------- --------------- 223.0/377.0 MB 18.2 MB/s eta 0:00:09\n",
      "   ----------------------- --------------- 223.8/377.0 MB 18.7 MB/s eta 0:00:09\n",
      "   ----------------------- --------------- 224.6/377.0 MB 18.2 MB/s eta 0:00:09\n",
      "   ----------------------- --------------- 225.5/377.0 MB 18.7 MB/s eta 0:00:09\n",
      "   ----------------------- --------------- 226.2/377.0 MB 18.7 MB/s eta 0:00:09\n",
      "   ----------------------- --------------- 227.0/377.0 MB 18.7 MB/s eta 0:00:09\n",
      "   ----------------------- --------------- 227.9/377.0 MB 18.7 MB/s eta 0:00:08\n",
      "   ----------------------- --------------- 228.3/377.0 MB 18.2 MB/s eta 0:00:09\n",
      "   ----------------------- --------------- 229.3/377.0 MB 18.2 MB/s eta 0:00:09\n",
      "   ----------------------- --------------- 230.1/377.0 MB 18.2 MB/s eta 0:00:09\n",
      "   ----------------------- --------------- 231.1/377.0 MB 18.7 MB/s eta 0:00:08\n",
      "   ------------------------ -------------- 232.1/377.0 MB 19.8 MB/s eta 0:00:08\n",
      "   ------------------------ -------------- 233.2/377.0 MB 19.8 MB/s eta 0:00:08\n",
      "   ------------------------ -------------- 234.0/377.0 MB 19.8 MB/s eta 0:00:08\n",
      "   ------------------------ -------------- 235.0/377.0 MB 20.5 MB/s eta 0:00:07\n",
      "   ------------------------ -------------- 235.8/377.0 MB 19.8 MB/s eta 0:00:08\n",
      "   ------------------------ -------------- 236.8/377.0 MB 19.9 MB/s eta 0:00:08\n",
      "   ------------------------ -------------- 237.7/377.0 MB 19.8 MB/s eta 0:00:08\n",
      "   ------------------------ -------------- 238.6/377.0 MB 19.8 MB/s eta 0:00:07\n",
      "   ------------------------ -------------- 239.7/377.0 MB 20.5 MB/s eta 0:00:07\n",
      "   ------------------------ -------------- 240.5/377.0 MB 19.9 MB/s eta 0:00:07\n",
      "   ------------------------ -------------- 241.4/377.0 MB 21.1 MB/s eta 0:00:07\n",
      "   ------------------------- ------------- 242.4/377.0 MB 20.5 MB/s eta 0:00:07\n",
      "   ------------------------- ------------- 243.5/377.0 MB 20.5 MB/s eta 0:00:07\n",
      "   ------------------------- ------------- 244.2/377.0 MB 19.8 MB/s eta 0:00:07\n",
      "   ------------------------- ------------- 245.1/377.0 MB 19.8 MB/s eta 0:00:07\n",
      "   ------------------------- ------------- 246.1/377.0 MB 20.5 MB/s eta 0:00:07\n",
      "   ------------------------- ------------- 247.0/377.0 MB 19.2 MB/s eta 0:00:07\n",
      "   ------------------------- ------------- 247.9/377.0 MB 19.8 MB/s eta 0:00:07\n",
      "   ------------------------- ------------- 248.8/377.0 MB 20.5 MB/s eta 0:00:07\n",
      "   ------------------------- ------------- 249.7/377.0 MB 19.8 MB/s eta 0:00:07\n",
      "   ------------------------- ------------- 250.3/377.0 MB 19.9 MB/s eta 0:00:07\n",
      "   -------------------------- ------------ 251.3/377.0 MB 18.7 MB/s eta 0:00:07\n",
      "   -------------------------- ------------ 251.9/377.0 MB 18.7 MB/s eta 0:00:07\n",
      "   -------------------------- ------------ 252.6/377.0 MB 18.7 MB/s eta 0:00:07\n",
      "   -------------------------- ------------ 253.2/377.0 MB 18.7 MB/s eta 0:00:07\n",
      "   -------------------------- ------------ 253.7/377.0 MB 17.7 MB/s eta 0:00:07\n",
      "   -------------------------- ------------ 254.3/377.0 MB 18.2 MB/s eta 0:00:07\n",
      "   -------------------------- ------------ 254.9/377.0 MB 17.3 MB/s eta 0:00:08\n",
      "   -------------------------- ------------ 255.7/377.0 MB 16.8 MB/s eta 0:00:08\n",
      "   -------------------------- ------------ 256.5/377.0 MB 16.4 MB/s eta 0:00:08\n",
      "   -------------------------- ------------ 257.3/377.0 MB 16.4 MB/s eta 0:00:08\n",
      "   -------------------------- ------------ 258.4/377.0 MB 16.8 MB/s eta 0:00:08\n",
      "   -------------------------- ------------ 259.5/377.0 MB 16.8 MB/s eta 0:00:07\n",
      "   -------------------------- ------------ 260.5/377.0 MB 17.2 MB/s eta 0:00:07\n",
      "   --------------------------- ----------- 261.1/377.0 MB 17.3 MB/s eta 0:00:07\n",
      "   --------------------------- ----------- 262.0/377.0 MB 17.3 MB/s eta 0:00:07\n",
      "   --------------------------- ----------- 262.9/377.0 MB 18.2 MB/s eta 0:00:07\n",
      "   --------------------------- ----------- 263.8/377.0 MB 18.7 MB/s eta 0:00:07\n",
      "   --------------------------- ----------- 264.7/377.0 MB 19.8 MB/s eta 0:00:06\n",
      "   --------------------------- ----------- 265.5/377.0 MB 21.1 MB/s eta 0:00:06\n",
      "   --------------------------- ----------- 266.2/377.0 MB 21.8 MB/s eta 0:00:06\n",
      "   --------------------------- ----------- 267.0/377.0 MB 21.8 MB/s eta 0:00:06\n",
      "   --------------------------- ----------- 267.9/377.0 MB 22.6 MB/s eta 0:00:05\n",
      "   --------------------------- ----------- 268.6/377.0 MB 22.5 MB/s eta 0:00:05\n",
      "   --------------------------- ----------- 269.4/377.0 MB 21.9 MB/s eta 0:00:05\n",
      "   --------------------------- ----------- 270.2/377.0 MB 22.6 MB/s eta 0:00:05\n",
      "   ---------------------------- ---------- 271.2/377.0 MB 22.5 MB/s eta 0:00:05\n",
      "   ---------------------------- ---------- 271.9/377.0 MB 22.6 MB/s eta 0:00:05\n",
      "   ---------------------------- ---------- 273.0/377.0 MB 22.6 MB/s eta 0:00:05\n",
      "   ---------------------------- ---------- 274.0/377.0 MB 22.5 MB/s eta 0:00:05\n",
      "   ---------------------------- ---------- 275.1/377.0 MB 22.6 MB/s eta 0:00:05\n",
      "   ---------------------------- ---------- 276.2/377.0 MB 21.8 MB/s eta 0:00:05\n",
      "   ---------------------------- ---------- 277.2/377.0 MB 21.8 MB/s eta 0:00:05\n",
      "   ---------------------------- ---------- 278.2/377.0 MB 21.8 MB/s eta 0:00:05\n",
      "   ---------------------------- ---------- 279.3/377.0 MB 22.6 MB/s eta 0:00:05\n",
      "   ---------------------------- ---------- 280.1/377.0 MB 21.8 MB/s eta 0:00:05\n",
      "   ----------------------------- --------- 281.0/377.0 MB 21.1 MB/s eta 0:00:05\n",
      "   ----------------------------- --------- 281.9/377.0 MB 20.5 MB/s eta 0:00:05\n",
      "   ----------------------------- --------- 282.8/377.0 MB 21.1 MB/s eta 0:00:05\n",
      "   ----------------------------- --------- 283.5/377.0 MB 19.8 MB/s eta 0:00:05\n",
      "   ----------------------------- --------- 284.6/377.0 MB 20.5 MB/s eta 0:00:05\n",
      "   ----------------------------- --------- 285.6/377.0 MB 19.8 MB/s eta 0:00:05\n",
      "   ----------------------------- --------- 286.8/377.0 MB 20.5 MB/s eta 0:00:05\n",
      "   ----------------------------- --------- 287.7/377.0 MB 19.9 MB/s eta 0:00:05\n",
      "   ----------------------------- --------- 288.7/377.0 MB 19.9 MB/s eta 0:00:05\n",
      "   ----------------------------- --------- 289.7/377.0 MB 19.9 MB/s eta 0:00:05\n",
      "   ------------------------------ -------- 290.4/377.0 MB 19.8 MB/s eta 0:00:05\n",
      "   ------------------------------ -------- 290.8/377.0 MB 19.3 MB/s eta 0:00:05\n",
      "   ------------------------------ -------- 291.4/377.0 MB 18.2 MB/s eta 0:00:05\n",
      "   ------------------------------ -------- 292.2/377.0 MB 18.2 MB/s eta 0:00:05\n",
      "   ------------------------------ -------- 293.1/377.0 MB 18.2 MB/s eta 0:00:05\n",
      "   ------------------------------ -------- 293.9/377.0 MB 18.2 MB/s eta 0:00:05\n",
      "   ------------------------------ -------- 295.0/377.0 MB 18.7 MB/s eta 0:00:05\n",
      "   ------------------------------ -------- 295.9/377.0 MB 18.2 MB/s eta 0:00:05\n",
      "   ------------------------------ -------- 296.8/377.0 MB 18.2 MB/s eta 0:00:05\n",
      "   ------------------------------ -------- 297.7/377.0 MB 17.7 MB/s eta 0:00:05\n",
      "   ------------------------------ -------- 298.7/377.0 MB 18.2 MB/s eta 0:00:05\n",
      "   ------------------------------ -------- 299.4/377.0 MB 17.7 MB/s eta 0:00:05\n",
      "   ------------------------------- ------- 300.0/377.0 MB 17.2 MB/s eta 0:00:05\n",
      "   ------------------------------- ------- 300.9/377.0 MB 18.7 MB/s eta 0:00:05\n",
      "   ------------------------------- ------- 301.9/377.0 MB 20.5 MB/s eta 0:00:04\n",
      "   ------------------------------- ------- 302.8/377.0 MB 20.5 MB/s eta 0:00:04\n",
      "   ------------------------------- ------- 303.5/377.0 MB 19.3 MB/s eta 0:00:04\n",
      "   ------------------------------- ------- 304.7/377.0 MB 20.5 MB/s eta 0:00:04\n",
      "   ------------------------------- ------- 305.6/377.0 MB 19.9 MB/s eta 0:00:04\n",
      "   ------------------------------- ------- 306.6/377.0 MB 19.8 MB/s eta 0:00:04\n",
      "   ------------------------------- ------- 307.2/377.0 MB 19.8 MB/s eta 0:00:04\n",
      "   ------------------------------- ------- 308.0/377.0 MB 19.3 MB/s eta 0:00:04\n",
      "   ------------------------------- ------- 308.9/377.0 MB 19.3 MB/s eta 0:00:04\n",
      "   -------------------------------- ------ 309.9/377.0 MB 19.3 MB/s eta 0:00:04\n",
      "   -------------------------------- ------ 310.9/377.0 MB 18.7 MB/s eta 0:00:04\n",
      "   -------------------------------- ------ 311.9/377.0 MB 19.8 MB/s eta 0:00:04\n",
      "   -------------------------------- ------ 312.7/377.0 MB 19.8 MB/s eta 0:00:04\n",
      "   -------------------------------- ------ 313.7/377.0 MB 19.8 MB/s eta 0:00:04\n",
      "   -------------------------------- ------ 314.9/377.0 MB 19.3 MB/s eta 0:00:04\n",
      "   -------------------------------- ------ 315.9/377.0 MB 19.8 MB/s eta 0:00:04\n",
      "   -------------------------------- ------ 317.1/377.0 MB 20.5 MB/s eta 0:00:03\n",
      "   -------------------------------- ------ 318.2/377.0 MB 21.1 MB/s eta 0:00:03\n",
      "   --------------------------------- ----- 319.3/377.0 MB 21.9 MB/s eta 0:00:03\n",
      "   --------------------------------- ----- 320.3/377.0 MB 21.9 MB/s eta 0:00:03\n",
      "   --------------------------------- ----- 321.1/377.0 MB 21.1 MB/s eta 0:00:03\n",
      "   --------------------------------- ----- 322.3/377.0 MB 22.6 MB/s eta 0:00:03\n",
      "   --------------------------------- ----- 323.0/377.0 MB 21.8 MB/s eta 0:00:03\n",
      "   --------------------------------- ----- 324.2/377.0 MB 21.1 MB/s eta 0:00:03\n",
      "   --------------------------------- ----- 325.2/377.0 MB 21.8 MB/s eta 0:00:03\n",
      "   --------------------------------- ----- 326.2/377.0 MB 21.1 MB/s eta 0:00:03\n",
      "   --------------------------------- ----- 327.2/377.0 MB 21.9 MB/s eta 0:00:03\n",
      "   --------------------------------- ----- 328.4/377.0 MB 21.1 MB/s eta 0:00:03\n",
      "   ---------------------------------- ---- 329.4/377.0 MB 21.8 MB/s eta 0:00:03\n",
      "   ---------------------------------- ---- 330.5/377.0 MB 21.1 MB/s eta 0:00:03\n",
      "   ---------------------------------- ---- 331.4/377.0 MB 21.8 MB/s eta 0:00:03\n",
      "   ---------------------------------- ---- 332.0/377.0 MB 20.5 MB/s eta 0:00:03\n",
      "   ---------------------------------- ---- 333.0/377.0 MB 21.1 MB/s eta 0:00:03\n",
      "   ---------------------------------- ---- 334.1/377.0 MB 21.1 MB/s eta 0:00:03\n",
      "   ---------------------------------- ---- 335.1/377.0 MB 21.1 MB/s eta 0:00:02\n",
      "   ---------------------------------- ---- 335.7/377.0 MB 20.5 MB/s eta 0:00:03\n",
      "   ---------------------------------- ---- 336.5/377.0 MB 19.8 MB/s eta 0:00:03\n",
      "   ---------------------------------- ---- 337.3/377.0 MB 19.2 MB/s eta 0:00:03\n",
      "   ---------------------------------- ---- 337.8/377.0 MB 18.2 MB/s eta 0:00:03\n",
      "   ----------------------------------- --- 338.5/377.0 MB 18.2 MB/s eta 0:00:03\n",
      "   ----------------------------------- --- 339.2/377.0 MB 17.3 MB/s eta 0:00:03\n",
      "   ----------------------------------- --- 339.9/377.0 MB 16.8 MB/s eta 0:00:03\n",
      "   ----------------------------------- --- 340.7/377.0 MB 16.8 MB/s eta 0:00:03\n",
      "   ----------------------------------- --- 341.5/377.0 MB 16.0 MB/s eta 0:00:03\n",
      "   ----------------------------------- --- 341.9/377.0 MB 16.4 MB/s eta 0:00:03\n",
      "   ----------------------------------- --- 342.8/377.0 MB 16.0 MB/s eta 0:00:03\n",
      "   ----------------------------------- --- 343.8/377.0 MB 15.6 MB/s eta 0:00:03\n",
      "   ----------------------------------- --- 344.8/377.0 MB 16.0 MB/s eta 0:00:03\n",
      "   ----------------------------------- --- 345.8/377.0 MB 16.4 MB/s eta 0:00:02\n",
      "   ----------------------------------- --- 346.9/377.0 MB 16.8 MB/s eta 0:00:02\n",
      "   ------------------------------------ -- 348.0/377.0 MB 17.7 MB/s eta 0:00:02\n",
      "   ------------------------------------ -- 349.1/377.0 MB 18.7 MB/s eta 0:00:02\n",
      "   ------------------------------------ -- 350.3/377.0 MB 19.9 MB/s eta 0:00:02\n",
      "   ------------------------------------ -- 351.5/377.0 MB 20.5 MB/s eta 0:00:02\n",
      "   ------------------------------------ -- 352.5/377.0 MB 22.6 MB/s eta 0:00:02\n",
      "   ------------------------------------ -- 353.3/377.0 MB 21.8 MB/s eta 0:00:02\n",
      "   ------------------------------------ -- 354.4/377.0 MB 22.6 MB/s eta 0:00:01\n",
      "   ------------------------------------ -- 355.5/377.0 MB 23.4 MB/s eta 0:00:01\n",
      "   ------------------------------------ -- 356.8/377.0 MB 23.4 MB/s eta 0:00:01\n",
      "   ------------------------------------ -- 357.4/377.0 MB 21.8 MB/s eta 0:00:01\n",
      "   ------------------------------------- - 358.5/377.0 MB 22.6 MB/s eta 0:00:01\n",
      "   ------------------------------------- - 359.4/377.0 MB 21.9 MB/s eta 0:00:01\n",
      "   ------------------------------------- - 360.3/377.0 MB 21.1 MB/s eta 0:00:01\n",
      "   ------------------------------------- - 361.3/377.0 MB 21.1 MB/s eta 0:00:01\n",
      "   ------------------------------------- - 362.4/377.0 MB 21.8 MB/s eta 0:00:01\n",
      "   ------------------------------------- - 363.6/377.0 MB 21.9 MB/s eta 0:00:01\n",
      "   ------------------------------------- - 364.7/377.0 MB 21.9 MB/s eta 0:00:01\n",
      "   ------------------------------------- - 365.8/377.0 MB 21.8 MB/s eta 0:00:01\n",
      "   ------------------------------------- - 366.9/377.0 MB 21.1 MB/s eta 0:00:01\n",
      "   --------------------------------------  368.1/377.0 MB 22.6 MB/s eta 0:00:01\n",
      "   --------------------------------------  369.3/377.0 MB 22.6 MB/s eta 0:00:01\n",
      "   --------------------------------------  370.1/377.0 MB 24.2 MB/s eta 0:00:01\n",
      "   --------------------------------------  371.0/377.0 MB 21.8 MB/s eta 0:00:01\n",
      "   --------------------------------------  371.5/377.0 MB 21.9 MB/s eta 0:00:01\n",
      "   --------------------------------------  372.0/377.0 MB 20.5 MB/s eta 0:00:01\n",
      "   --------------------------------------  372.4/377.0 MB 19.8 MB/s eta 0:00:01\n",
      "   --------------------------------------  372.8/377.0 MB 19.3 MB/s eta 0:00:01\n",
      "   --------------------------------------  373.2/377.0 MB 18.2 MB/s eta 0:00:01\n",
      "   --------------------------------------  373.6/377.0 MB 18.2 MB/s eta 0:00:01\n",
      "   --------------------------------------  374.1/377.0 MB 17.2 MB/s eta 0:00:01\n",
      "   --------------------------------------  374.5/377.0 MB 16.8 MB/s eta 0:00:01\n",
      "   --------------------------------------  375.1/377.0 MB 16.4 MB/s eta 0:00:01\n",
      "   --------------------------------------  375.6/377.0 MB 16.0 MB/s eta 0:00:01\n",
      "   --------------------------------------  376.5/377.0 MB 15.2 MB/s eta 0:00:01\n",
      "   --------------------------------------  377.0/377.0 MB 15.2 MB/s eta 0:00:01\n",
      "   --------------------------------------  377.0/377.0 MB 15.2 MB/s eta 0:00:01\n",
      "   --------------------------------------  377.0/377.0 MB 15.2 MB/s eta 0:00:01\n",
      "   --------------------------------------  377.0/377.0 MB 15.2 MB/s eta 0:00:01\n",
      "   --------------------------------------  377.0/377.0 MB 15.2 MB/s eta 0:00:01\n",
      "   --------------------------------------  377.0/377.0 MB 15.2 MB/s eta 0:00:01\n",
      "   --------------------------------------  377.0/377.0 MB 15.2 MB/s eta 0:00:01\n",
      "   --------------------------------------  377.0/377.0 MB 15.2 MB/s eta 0:00:01\n",
      "   --------------------------------------  377.0/377.0 MB 15.2 MB/s eta 0:00:01\n",
      "   --------------------------------------  377.0/377.0 MB 15.2 MB/s eta 0:00:01\n",
      "   --------------------------------------  377.0/377.0 MB 15.2 MB/s eta 0:00:01\n",
      "   --------------------------------------  377.0/377.0 MB 15.2 MB/s eta 0:00:01\n",
      "   --------------------------------------  377.0/377.0 MB 15.2 MB/s eta 0:00:01\n",
      "   --------------------------------------  377.0/377.0 MB 15.2 MB/s eta 0:00:01\n",
      "   --------------------------------------  377.0/377.0 MB 15.2 MB/s eta 0:00:01\n",
      "   --------------------------------------  377.0/377.0 MB 15.2 MB/s eta 0:00:01\n",
      "   --------------------------------------  377.0/377.0 MB 15.2 MB/s eta 0:00:01\n",
      "   --------------------------------------  377.0/377.0 MB 15.2 MB/s eta 0:00:01\n",
      "   ---------------------------------------- 377.0/377.0 MB 5.7 MB/s eta 0:00:00\n",
      "Downloading absl_py-2.1.0-py3-none-any.whl (133 kB)\n",
      "   ---------------------------------------- 0.0/133.7 kB ? eta -:--:--\n",
      "   ---------------------------------------- 133.7/133.7 kB ? eta 0:00:00\n",
      "Downloading astunparse-1.6.3-py2.py3-none-any.whl (12 kB)\n",
      "Downloading flatbuffers-24.3.25-py2.py3-none-any.whl (26 kB)\n",
      "Downloading gast-0.6.0-py3-none-any.whl (21 kB)\n",
      "Downloading google_pasta-0.2.0-py3-none-any.whl (57 kB)\n",
      "   ---------------------------------------- 0.0/57.5 kB ? eta -:--:--\n",
      "   ---------------------------------------- 57.5/57.5 kB ? eta 0:00:00\n",
      "Downloading grpcio-1.64.1-cp311-cp311-win_amd64.whl (4.1 MB)\n",
      "   ---------------------------------------- 0.0/4.1 MB ? eta -:--:--\n",
      "   --------- ------------------------------ 1.0/4.1 MB 15.3 MB/s eta 0:00:01\n",
      "   ------------------ --------------------- 1.8/4.1 MB 16.7 MB/s eta 0:00:01\n",
      "   ------------------------ --------------- 2.5/4.1 MB 17.6 MB/s eta 0:00:01\n",
      "   ----------------------------- ---------- 3.0/4.1 MB 17.4 MB/s eta 0:00:01\n",
      "   ------------------------------------- -- 3.8/4.1 MB 17.3 MB/s eta 0:00:01\n",
      "   ---------------------------------------- 4.1/4.1 MB 16.3 MB/s eta 0:00:00\n",
      "Downloading h5py-3.11.0-cp311-cp311-win_amd64.whl (3.0 MB)\n",
      "   ---------------------------------------- 0.0/3.0 MB ? eta -:--:--\n",
      "   ---------- ----------------------------- 0.8/3.0 MB 50.5 MB/s eta 0:00:01\n",
      "   ----------------------- ---------------- 1.8/3.0 MB 28.6 MB/s eta 0:00:01\n",
      "   ---------------------------------- ----- 2.5/3.0 MB 23.3 MB/s eta 0:00:01\n",
      "   ---------------------------------------- 3.0/3.0 MB 21.2 MB/s eta 0:00:00\n",
      "Downloading keras-3.4.1-py3-none-any.whl (1.1 MB)\n",
      "   ---------------------------------------- 0.0/1.1 MB ? eta -:--:--\n",
      "   --------------------------- ------------ 0.8/1.1 MB 16.6 MB/s eta 0:00:01\n",
      "   ---------------------------------------- 1.1/1.1 MB 18.1 MB/s eta 0:00:00\n",
      "Downloading libclang-18.1.1-py2.py3-none-win_amd64.whl (26.4 MB)\n",
      "   ---------------------------------------- 0.0/26.4 MB ? eta -:--:--\n",
      "   - -------------------------------------- 1.0/26.4 MB 31.7 MB/s eta 0:00:01\n",
      "   --- ------------------------------------ 2.0/26.4 MB 21.7 MB/s eta 0:00:02\n",
      "   ---- ----------------------------------- 2.7/26.4 MB 21.1 MB/s eta 0:00:02\n",
      "   ----- ---------------------------------- 3.4/26.4 MB 19.7 MB/s eta 0:00:02\n",
      "   ------ --------------------------------- 4.2/26.4 MB 19.3 MB/s eta 0:00:02\n",
      "   ------- -------------------------------- 4.9/26.4 MB 19.5 MB/s eta 0:00:02\n",
      "   -------- ------------------------------- 5.6/26.4 MB 20.0 MB/s eta 0:00:02\n",
      "   --------- ------------------------------ 6.5/26.4 MB 19.9 MB/s eta 0:00:01\n",
      "   ----------- ---------------------------- 7.4/26.4 MB 20.5 MB/s eta 0:00:01\n",
      "   ------------ --------------------------- 8.5/26.4 MB 20.1 MB/s eta 0:00:01\n",
      "   ------------- -------------------------- 8.9/26.4 MB 19.6 MB/s eta 0:00:01\n",
      "   -------------- ------------------------- 9.7/26.4 MB 20.0 MB/s eta 0:00:01\n",
      "   ---------------- ----------------------- 10.6/26.4 MB 19.2 MB/s eta 0:00:01\n",
      "   ----------------- ---------------------- 11.6/26.4 MB 19.3 MB/s eta 0:00:01\n",
      "   ------------------- -------------------- 12.6/26.4 MB 18.7 MB/s eta 0:00:01\n",
      "   -------------------- ------------------- 13.6/26.4 MB 19.3 MB/s eta 0:00:01\n",
      "   ---------------------- ----------------- 14.6/26.4 MB 20.5 MB/s eta 0:00:01\n",
      "   ----------------------- ---------------- 15.5/26.4 MB 19.8 MB/s eta 0:00:01\n",
      "   ------------------------- -------------- 16.6/26.4 MB 20.5 MB/s eta 0:00:01\n",
      "   -------------------------- ------------- 17.4/26.4 MB 19.8 MB/s eta 0:00:01\n",
      "   --------------------------- ------------ 18.2/26.4 MB 19.2 MB/s eta 0:00:01\n",
      "   ---------------------------- ----------- 19.0/26.4 MB 19.9 MB/s eta 0:00:01\n",
      "   ------------------------------ --------- 20.0/26.4 MB 19.8 MB/s eta 0:00:01\n",
      "   ------------------------------- -------- 20.8/26.4 MB 19.9 MB/s eta 0:00:01\n",
      "   -------------------------------- ------- 21.7/26.4 MB 19.9 MB/s eta 0:00:01\n",
      "   --------------------------------- ------ 22.4/26.4 MB 19.9 MB/s eta 0:00:01\n",
      "   ---------------------------------- ----- 23.1/26.4 MB 19.3 MB/s eta 0:00:01\n",
      "   ------------------------------------ --- 24.2/26.4 MB 19.8 MB/s eta 0:00:01\n",
      "   ------------------------------------- -- 25.0/26.4 MB 19.9 MB/s eta 0:00:01\n",
      "   ---------------------------------------  26.0/26.4 MB 19.9 MB/s eta 0:00:01\n",
      "   ---------------------------------------  26.4/26.4 MB 19.9 MB/s eta 0:00:01\n",
      "   ---------------------------------------  26.4/26.4 MB 19.9 MB/s eta 0:00:01\n",
      "   ---------------------------------------- 26.4/26.4 MB 16.4 MB/s eta 0:00:00\n",
      "Downloading ml_dtypes-0.3.2-cp311-cp311-win_amd64.whl (127 kB)\n",
      "   ---------------------------------------- 0.0/127.7 kB ? eta -:--:--\n",
      "   ---------------------------------------- 127.7/127.7 kB 7.3 MB/s eta 0:00:00\n",
      "Downloading opt_einsum-3.3.0-py3-none-any.whl (65 kB)\n",
      "   ---------------------------------------- 0.0/65.5 kB ? eta -:--:--\n",
      "   ---------------------------------------- 65.5/65.5 kB 3.7 MB/s eta 0:00:00\n",
      "Downloading protobuf-4.25.3-cp310-abi3-win_amd64.whl (413 kB)\n",
      "   ---------------------------------------- 0.0/413.4 kB ? eta -:--:--\n",
      "   --------------------------------------- 413.4/413.4 kB 13.0 MB/s eta 0:00:00\n",
      "Downloading tensorboard-2.16.2-py3-none-any.whl (5.5 MB)\n",
      "   ---------------------------------------- 0.0/5.5 MB ? eta -:--:--\n",
      "   ------- -------------------------------- 1.0/5.5 MB 20.7 MB/s eta 0:00:01\n",
      "   --------------- ------------------------ 2.1/5.5 MB 22.3 MB/s eta 0:00:01\n",
      "   ------------------------ --------------- 3.3/5.5 MB 23.8 MB/s eta 0:00:01\n",
      "   ----------------------------- ---------- 4.1/5.5 MB 21.8 MB/s eta 0:00:01\n",
      "   ------------------------------------- -- 5.1/5.5 MB 21.7 MB/s eta 0:00:01\n",
      "   ---------------------------------------- 5.5/5.5 MB 19.5 MB/s eta 0:00:00\n",
      "Downloading tensorflow_io_gcs_filesystem-0.31.0-cp311-cp311-win_amd64.whl (1.5 MB)\n",
      "   ---------------------------------------- 0.0/1.5 MB ? eta -:--:--\n",
      "   ------------------------ --------------- 0.9/1.5 MB 27.8 MB/s eta 0:00:01\n",
      "   ---------------------------------------- 1.5/1.5 MB 18.9 MB/s eta 0:00:00\n",
      "Downloading termcolor-2.4.0-py3-none-any.whl (7.7 kB)\n",
      "Downloading tensorboard_data_server-0.7.2-py3-none-any.whl (2.4 kB)\n",
      "Downloading namex-0.0.8-py3-none-any.whl (5.8 kB)\n",
      "Downloading optree-0.12.1-cp311-cp311-win_amd64.whl (268 kB)\n",
      "   ---------------------------------------- 0.0/268.5 kB ? eta -:--:--\n",
      "   ---------------------------------------- 268.5/268.5 kB ? eta 0:00:00\n",
      "Downloading rich-13.7.1-py3-none-any.whl (240 kB)\n",
      "   ---------------------------------------- 0.0/240.7 kB ? eta -:--:--\n",
      "   --------------------------------------- 240.7/240.7 kB 14.4 MB/s eta 0:00:00\n",
      "Installing collected packages: namex, libclang, flatbuffers, termcolor, tensorflow-io-gcs-filesystem, tensorboard-data-server, protobuf, optree, opt-einsum, ml-dtypes, h5py, grpcio, google-pasta, gast, astunparse, absl-py, tensorboard, rich, keras, tensorflow-intel, tensorflow\n",
      "  Attempting uninstall: h5py\n",
      "    Found existing installation: h5py 3.9.0\n",
      "    Uninstalling h5py-3.9.0:\n",
      "      Successfully uninstalled h5py-3.9.0\n",
      "Successfully installed absl-py-2.1.0 astunparse-1.6.3 flatbuffers-24.3.25 gast-0.6.0 google-pasta-0.2.0 grpcio-1.64.1 h5py-3.11.0 keras-3.4.1 libclang-18.1.1 ml-dtypes-0.3.2 namex-0.0.8 opt-einsum-3.3.0 optree-0.12.1 protobuf-4.25.3 rich-13.7.1 tensorboard-2.16.2 tensorboard-data-server-0.7.2 tensorflow-2.16.2 tensorflow-intel-2.16.2 tensorflow-io-gcs-filesystem-0.31.0 termcolor-2.4.0\n"
     ]
    }
   ],
   "source": [
    "!pip install tensorflow\n"
   ]
  },
  {
   "cell_type": "code",
   "execution_count": 4,
   "metadata": {
    "id": "2_TLrSICBHI1"
   },
   "outputs": [],
   "source": [
    "train = pd.read_csv('emotion-labels-train.csv',encoding='latin1')\n",
    "test = pd.read_csv('emotion-labels-test.csv',encoding='latin1')\n",
    "val = pd.read_csv('emotion-labels-val.csv',encoding='latin1')"
   ]
  },
  {
   "cell_type": "code",
   "execution_count": 5,
   "metadata": {
    "id": "iq7nKrnQBZsU"
   },
   "outputs": [],
   "source": [
    "df = pd.concat([train, test, val], ignore_index=True)"
   ]
  },
  {
   "cell_type": "code",
   "execution_count": 6,
   "metadata": {
    "colab": {
     "base_uri": "https://localhost:8080/",
     "height": 206
    },
    "id": "fOw16X4CBssI",
    "outputId": "b611e997-a699-4926-f3aa-fc17ab2ead81"
   },
   "outputs": [
    {
     "data": {
      "text/html": [
       "<div>\n",
       "<style scoped>\n",
       "    .dataframe tbody tr th:only-of-type {\n",
       "        vertical-align: middle;\n",
       "    }\n",
       "\n",
       "    .dataframe tbody tr th {\n",
       "        vertical-align: top;\n",
       "    }\n",
       "\n",
       "    .dataframe thead th {\n",
       "        text-align: right;\n",
       "    }\n",
       "</style>\n",
       "<table border=\"1\" class=\"dataframe\">\n",
       "  <thead>\n",
       "    <tr style=\"text-align: right;\">\n",
       "      <th></th>\n",
       "      <th>text</th>\n",
       "      <th>label</th>\n",
       "    </tr>\n",
       "  </thead>\n",
       "  <tbody>\n",
       "    <tr>\n",
       "      <th>0</th>\n",
       "      <td>Just got back from seeing @GaryDelaney in Burs...</td>\n",
       "      <td>joy</td>\n",
       "    </tr>\n",
       "    <tr>\n",
       "      <th>1</th>\n",
       "      <td>Oh dear an evening of absolute hilarity I don'...</td>\n",
       "      <td>joy</td>\n",
       "    </tr>\n",
       "    <tr>\n",
       "      <th>2</th>\n",
       "      <td>Been waiting all week for this game â¤ï¸â¤ï...</td>\n",
       "      <td>joy</td>\n",
       "    </tr>\n",
       "    <tr>\n",
       "      <th>3</th>\n",
       "      <td>@gardiner_love : Thank you so much, Gloria! Yo...</td>\n",
       "      <td>joy</td>\n",
       "    </tr>\n",
       "    <tr>\n",
       "      <th>4</th>\n",
       "      <td>I feel so blessed to work with the family that...</td>\n",
       "      <td>joy</td>\n",
       "    </tr>\n",
       "  </tbody>\n",
       "</table>\n",
       "</div>"
      ],
      "text/plain": [
       "                                                text label\n",
       "0  Just got back from seeing @GaryDelaney in Burs...   joy\n",
       "1  Oh dear an evening of absolute hilarity I don'...   joy\n",
       "2  Been waiting all week for this game â¤ï¸â¤ï...   joy\n",
       "3  @gardiner_love : Thank you so much, Gloria! Yo...   joy\n",
       "4  I feel so blessed to work with the family that...   joy"
      ]
     },
     "execution_count": 6,
     "metadata": {},
     "output_type": "execute_result"
    }
   ],
   "source": [
    "df.head()"
   ]
  },
  {
   "cell_type": "code",
   "execution_count": 7,
   "metadata": {
    "colab": {
     "base_uri": "https://localhost:8080/"
    },
    "id": "jh9NEBMHBuMF",
    "outputId": "3b3e8dca-5960-4088-f1ba-1f32bf027ea3"
   },
   "outputs": [
    {
     "name": "stdout",
     "output_type": "stream",
     "text": [
      "<class 'pandas.core.frame.DataFrame'>\n",
      "RangeIndex: 7102 entries, 0 to 7101\n",
      "Data columns (total 2 columns):\n",
      " #   Column  Non-Null Count  Dtype \n",
      "---  ------  --------------  ----- \n",
      " 0   text    7102 non-null   object\n",
      " 1   label   7102 non-null   object\n",
      "dtypes: object(2)\n",
      "memory usage: 111.1+ KB\n"
     ]
    }
   ],
   "source": [
    "df.info()"
   ]
  },
  {
   "cell_type": "code",
   "execution_count": 8,
   "metadata": {
    "colab": {
     "base_uri": "https://localhost:8080/",
     "height": 206
    },
    "id": "yM17qzwCBxH7",
    "outputId": "ef7e1800-7048-4cdf-c4df-0ec8154f206b"
   },
   "outputs": [
    {
     "data": {
      "text/html": [
       "<div>\n",
       "<style scoped>\n",
       "    .dataframe tbody tr th:only-of-type {\n",
       "        vertical-align: middle;\n",
       "    }\n",
       "\n",
       "    .dataframe tbody tr th {\n",
       "        vertical-align: top;\n",
       "    }\n",
       "\n",
       "    .dataframe thead th {\n",
       "        text-align: right;\n",
       "    }\n",
       "</style>\n",
       "<table border=\"1\" class=\"dataframe\">\n",
       "  <thead>\n",
       "    <tr style=\"text-align: right;\">\n",
       "      <th></th>\n",
       "      <th>text</th>\n",
       "      <th>label</th>\n",
       "    </tr>\n",
       "  </thead>\n",
       "  <tbody>\n",
       "    <tr>\n",
       "      <th>7097</th>\n",
       "      <td>Common app just randomly logged me out as I wa...</td>\n",
       "      <td>sadness</td>\n",
       "    </tr>\n",
       "    <tr>\n",
       "      <th>7098</th>\n",
       "      <td>I'd rather laugh with the rarest genius, in be...</td>\n",
       "      <td>sadness</td>\n",
       "    </tr>\n",
       "    <tr>\n",
       "      <th>7099</th>\n",
       "      <td>If you #invest in my new #film I will stop ask...</td>\n",
       "      <td>sadness</td>\n",
       "    </tr>\n",
       "    <tr>\n",
       "      <th>7100</th>\n",
       "      <td>Just watched Django Unchained, Other people ma...</td>\n",
       "      <td>sadness</td>\n",
       "    </tr>\n",
       "    <tr>\n",
       "      <th>7101</th>\n",
       "      <td>@KeithOlbermann depressing how despicable Trum...</td>\n",
       "      <td>sadness</td>\n",
       "    </tr>\n",
       "  </tbody>\n",
       "</table>\n",
       "</div>"
      ],
      "text/plain": [
       "                                                   text    label\n",
       "7097  Common app just randomly logged me out as I wa...  sadness\n",
       "7098  I'd rather laugh with the rarest genius, in be...  sadness\n",
       "7099  If you #invest in my new #film I will stop ask...  sadness\n",
       "7100  Just watched Django Unchained, Other people ma...  sadness\n",
       "7101  @KeithOlbermann depressing how despicable Trum...  sadness"
      ]
     },
     "execution_count": 8,
     "metadata": {},
     "output_type": "execute_result"
    }
   ],
   "source": [
    "df.tail()"
   ]
  },
  {
   "cell_type": "code",
   "execution_count": 9,
   "metadata": {
    "colab": {
     "base_uri": "https://localhost:8080/"
    },
    "id": "RPudjWQ3B4Cd",
    "outputId": "658643f5-2c0e-42e7-aa06-d3ad8fde8624"
   },
   "outputs": [
    {
     "data": {
      "text/plain": [
       "(7102, 2)"
      ]
     },
     "execution_count": 9,
     "metadata": {},
     "output_type": "execute_result"
    }
   ],
   "source": [
    "df.shape"
   ]
  },
  {
   "cell_type": "code",
   "execution_count": 10,
   "metadata": {
    "colab": {
     "base_uri": "https://localhost:8080/",
     "height": 675
    },
    "id": "m4MMAVTyB7VF",
    "outputId": "3a1a13ef-112d-48d2-9d59-db6b7fe04259"
   },
   "outputs": [
    {
     "data": {
      "image/png": "[encoded data removed]",
      "text/plain": [
       "<Figure size 800x800 with 1 Axes>"
      ]
     },
     "metadata": {},
     "output_type": "display_data"
    }
   ],
   "source": [
    "label_counts = df['label'].value_counts()\n",
    "\n",
    "# Create a pie chart\n",
    "plt.figure(figsize=(8, 8))\n",
    "plt.pie(label_counts, labels=label_counts.index, autopct='%1.1f%%', startangle=140)\n",
    "plt.title('Label Distribution')\n",
    "plt.axis('equal')  # Equal aspect ratio ensures that pie is drawn as a circle.\n",
    "\n",
    "# Show the pie chart\n",
    "plt.show()"
   ]
  },
  {
   "cell_type": "code",
   "execution_count": 10,
   "metadata": {
    "id": "ZHAh8GokCEHX"
   },
   "outputs": [],
   "source": [
    "#Tokenize and preprocess the text data"
   ]
  },
  {
   "cell_type": "code",
   "execution_count": 11,
   "metadata": {
    "id": "cKcB0_FzCJlS"
   },
   "outputs": [],
   "source": [
    "max_words = 5000  # You can adjust this based on your dataset\n",
    "max_sequence_length = 100  # You can adjust this based on your dataset\n",
    "\n",
    "tokenizer = Tokenizer(num_words=max_words, oov_token=\"<OOV>\")\n",
    "tokenizer.fit_on_texts(df['text'])\n",
    "sequences = tokenizer.texts_to_sequences(df['text'])\n",
    "data = pad_sequences(sequences, maxlen=max_sequence_length)"
   ]
  },
  {
   "cell_type": "code",
   "execution_count": 12,
   "metadata": {
    "id": "PMkvood5CMBh"
   },
   "outputs": [],
   "source": [
    "label_encoder = LabelEncoder()\n",
    "labels = label_encoder.fit_transform(df['label'])\n",
    "class_names = label_encoder.classes_"
   ]
  },
  {
   "cell_type": "code",
   "execution_count": 13,
   "metadata": {
    "id": "FZSvfpGrCQqP"
   },
   "outputs": [],
   "source": [
    "#Splitting of data train and test"
   ]
  },
  {
   "cell_type": "code",
   "execution_count": 14,
   "metadata": {
    "id": "bOjj8j-HCTkn"
   },
   "outputs": [],
   "source": [
    "train_data, val_data, train_labels, val_labels = train_test_split(\n",
    "    data, labels, test_size=0.2, random_state=42)"
   ]
  },
  {
   "cell_type": "code",
   "execution_count": 15,
   "metadata": {
    "id": "Kkt1Bts8CWJN"
   },
   "outputs": [],
   "source": [
    "train_data = torch.tensor(train_data, dtype=torch.long)\n",
    "val_data = torch.tensor(val_data, dtype=torch.long)\n",
    "train_labels = torch.tensor(train_labels, dtype=torch.long)\n",
    "val_labels = torch.tensor(val_labels, dtype=torch.long)"
   ]
  },
  {
   "cell_type": "code",
   "execution_count": 16,
   "metadata": {
    "id": "FUFUzWsQCYLY"
   },
   "outputs": [],
   "source": [
    "batch_size = 34 # Adjust as needed\n",
    "train_dataset = TensorDataset(train_data, train_labels)\n",
    "val_dataset = TensorDataset(val_data, val_labels)\n",
    "train_loader = DataLoader(train_dataset, batch_size=batch_size, shuffle=True)\n",
    "val_loader = DataLoader(val_dataset, batch_size=batch_size)"
   ]
  },
  {
   "cell_type": "code",
   "execution_count": 17,
   "metadata": {
    "id": "P7A4aR0tCbJf"
   },
   "outputs": [],
   "source": [
    "#Text emotion Dectection"
   ]
  },
  {
   "cell_type": "code",
   "execution_count": 18,
   "metadata": {
    "id": "YWyGTmbaCdHZ"
   },
   "outputs": [],
   "source": [
    "class CNNTextClassifier(nn.Module):\n",
    "    def __init__(self, vocab_size, embedding_dim, num_filters, filter_sizes, num_classes):\n",
    "        super(CNNTextClassifier, self).__init__()\n",
    "        self.embedding = nn.Embedding(vocab_size, embedding_dim)\n",
    "        self.convs = nn.ModuleList([\n",
    "            nn.Conv2d(1, num_filters, (fs, embedding_dim)) for fs in filter_sizes\n",
    "        ])\n",
    "        self.fc = nn.Linear(len(filter_sizes) * num_filters, num_classes)\n",
    "\n",
    "    def forward(self, x):\n",
    "        x = self.embedding(x)\n",
    "        x = x.unsqueeze(1)\n",
    "        x = [F.relu(conv(x)).squeeze(3) for conv in self.convs]\n",
    "        x = [F.max_pool1d(conv, conv.size(2)).squeeze(2) for conv in x]\n",
    "        x = torch.cat(x, 1)\n",
    "        x = self.fc(x)\n",
    "        return x"
   ]
  },
  {
   "cell_type": "code",
   "execution_count": 19,
   "metadata": {
    "id": "j8L0VGC9Cfsm"
   },
   "outputs": [],
   "source": [
    "vocab_size = max_words\n",
    "embedding_dim = 100 # You can adjust this based on your dataset\n",
    "num_filters = 128  # You can adjust this based on your dataset\n",
    "filter_sizes = [3, 4, 5]  # Filter sizes for convolutions\n",
    "num_classes = len(label_encoder.classes_)  # Number of emotion classes"
   ]
  },
  {
   "cell_type": "code",
   "execution_count": 20,
   "metadata": {
    "id": "_BanOI2lCkIk"
   },
   "outputs": [],
   "source": [
    "#CNN model"
   ]
  },
  {
   "cell_type": "code",
   "execution_count": 21,
   "metadata": {
    "id": "X0es_oImCnog"
   },
   "outputs": [],
   "source": [
    "# Create the CNN model\n",
    "cnn_model = CNNTextClassifier(vocab_size, embedding_dim, num_filters, filter_sizes, num_classes)"
   ]
  },
  {
   "cell_type": "code",
   "execution_count": 22,
   "metadata": {
    "id": "zkDtwr_WCq5h"
   },
   "outputs": [],
   "source": [
    "criterion = nn.CrossEntropyLoss()\n",
    "optimizer = optim.Adam(cnn_model.parameters(), lr=0.001)"
   ]
  },
  {
   "cell_type": "code",
   "execution_count": 23,
   "metadata": {
    "id": "TDtWzeWWCs3C"
   },
   "outputs": [],
   "source": [
    "train_losses = []\n",
    "val_losses = []\n",
    "train_accuracies = []\n",
    "val_accuracies = []"
   ]
  },
  {
   "cell_type": "code",
   "execution_count": 24,
   "metadata": {
    "id": "nDfk7MntCusz"
   },
   "outputs": [],
   "source": [
    "#trainning model"
   ]
  },
  {
   "cell_type": "code",
   "execution_count": 25,
   "metadata": {
    "colab": {
     "base_uri": "https://localhost:8080/",
     "height": 673
    },
    "id": "g4B5jzQMCx2b",
    "outputId": "e1ab997c-811f-4865-8484-fdc3dc363e96"
   },
   "outputs": [
    {
     "name": "stdout",
     "output_type": "stream",
     "text": [
      "Epoch 1 - Loss: 1.2970845521915526, Accuracy: 40.49%\n",
      "Epoch 1 - Validation Loss: 1.1551259401298704, Validation Accuracy: 51.51%\n",
      "Epoch 2 - Loss: 0.7828797811553592, Accuracy: 75.37%\n",
      "Epoch 2 - Validation Loss: 0.9782697842234657, Validation Accuracy: 59.47%\n",
      "Epoch 3 - Loss: 0.3796028961383161, Accuracy: 91.53%\n",
      "Epoch 3 - Validation Loss: 0.7670812550045195, Validation Accuracy: 72.48%\n",
      "Epoch 4 - Loss: 0.2140664011461749, Accuracy: 95.65%\n",
      "Epoch 4 - Validation Loss: 0.7785801241795222, Validation Accuracy: 71.50%\n",
      "Epoch 5 - Loss: 0.1657380875576997, Accuracy: 96.73%\n",
      "Epoch 5 - Validation Loss: 0.7550365846781504, Validation Accuracy: 73.89%\n",
      "Epoch 6 - Loss: 0.15675921229246473, Accuracy: 96.60%\n",
      "Epoch 6 - Validation Loss: 0.7436451088814509, Validation Accuracy: 75.37%\n",
      "Epoch 7 - Loss: 0.15817716294744363, Accuracy: 96.71%\n",
      "Epoch 7 - Validation Loss: 0.7033352348066512, Validation Accuracy: 76.07%\n",
      "Epoch 8 - Loss: 0.15777716685330406, Accuracy: 96.67%\n",
      "Epoch 8 - Validation Loss: 0.7549210694574174, Validation Accuracy: 75.16%\n",
      "Epoch 9 - Loss: 0.14835000491612368, Accuracy: 96.80%\n",
      "Epoch 9 - Validation Loss: 0.7228582423357737, Validation Accuracy: 76.07%\n",
      "Epoch 10 - Loss: 0.14814114796796016, Accuracy: 96.66%\n",
      "Epoch 10 - Validation Loss: 0.7792064150174459, Validation Accuracy: 72.77%\n"
     ]
    },
    {
     "data": {
      "image/png": "[encoded data removed]",
      "text/plain": [
       "<Figure size 1200x400 with 2 Axes>"
      ]
     },
     "metadata": {},
     "output_type": "display_data"
    }
   ],
   "source": [
    "train_losses = []\n",
    "val_losses = []\n",
    "train_accuracies = []\n",
    "val_accuracies = []\n",
    "\n",
    "# Training loop\n",
    "num_epochs = 10  # Adjust as needed\n",
    "device = torch.device(\"cuda\" if torch.cuda.is_available() else \"cpu\")\n",
    "cnn_model.to(device)\n",
    "\n",
    "for epoch in range(num_epochs):\n",
    "    cnn_model.train()\n",
    "    total_loss = 0\n",
    "    correct_train = 0\n",
    "    total_train = 0\n",
    "\n",
    "    for data, labels in train_loader:\n",
    "        data, labels = data.to(device), labels.to(device)\n",
    "        optimizer.zero_grad()\n",
    "        outputs = cnn_model(data)\n",
    "        loss = criterion(outputs, labels)\n",
    "        loss.backward()\n",
    "        optimizer.step()\n",
    "        total_loss += loss.item()\n",
    "\n",
    "        # Calculate training accuracy\n",
    "        _, predicted = torch.max(outputs.data, 1)\n",
    "        total_train += labels.size(0)\n",
    "        correct_train += (predicted == labels).sum().item()\n",
    "\n",
    "    # Calculate average training loss and accuracy for this epoch\n",
    "    avg_train_loss = total_loss / len(train_loader)\n",
    "    train_accuracy = (correct_train / total_train) * 100\n",
    "    train_losses.append(avg_train_loss)\n",
    "    train_accuracies.append(train_accuracy)\n",
    "\n",
    "    # Print training loss and accuracy for this epoch\n",
    "    print(f\"Epoch {epoch+1} - Loss: {avg_train_loss}, Accuracy: {train_accuracy:.2f}%\")\n",
    "\n",
    "    # Validation\n",
    "    cnn_model.eval()\n",
    "    val_loss = 0\n",
    "    correct_val = 0\n",
    "    total_val = 0\n",
    "    with torch.no_grad():\n",
    "        for data, labels in val_loader:\n",
    "            data, labels = data.to(device), labels.to(device)\n",
    "            outputs = cnn_model(data)\n",
    "            loss = criterion(outputs, labels)\n",
    "            val_loss += loss.item()\n",
    "\n",
    "            # Calculate validation accuracy\n",
    "            _, predicted = torch.max(outputs.data, 1)\n",
    "            total_val += labels.size(0)\n",
    "            correct_val += (predicted == labels).sum().item()\n",
    "\n",
    "    # Calculate average validation loss and accuracy for this epoch\n",
    "    avg_val_loss = val_loss / len(val_loader)\n",
    "    val_accuracy = (correct_val / total_val) * 100\n",
    "    val_losses.append(avg_val_loss)\n",
    "    val_accuracies.append(val_accuracy)\n",
    "\n",
    "    # Print validation loss and accuracy for this epoch\n",
    "    print(f\"Epoch {epoch+1} - Validation Loss: {avg_val_loss}, Validation Accuracy: {val_accuracy:.2f}%\")\n",
    "\n",
    "# Plotting training and validation losses\n",
    "plt.figure(figsize=(12, 4))\n",
    "plt.subplot(1, 2, 1)\n",
    "plt.plot(range(1, num_epochs + 1), train_losses, 'r', label='Train Loss')\n",
    "plt.plot(range(1, num_epochs + 1), val_losses, 'b', label='Validation Loss')\n",
    "plt.xlabel('Epochs')\n",
    "plt.ylabel('Loss')\n",
    "plt.title('Training and Validation Loss')\n",
    "plt.legend(['train', 'test'], loc='upper left')\n",
    "\n",
    "# Plotting training and validation accuracies\n",
    "plt.subplot(1, 2, 2)\n",
    "plt.plot(range(1, num_epochs + 1), train_accuracies, 'r', label='Train Accuracy')\n",
    "plt.plot(range(1, num_epochs + 1), val_accuracies, 'b', label='Validation Accuracy')\n",
    "plt.xlabel('Epochs')\n",
    "plt.ylabel('Accuracy (%)')\n",
    "plt.title('Training and Validation Accuracy')\n",
    "plt.legend(['train', 'test'], loc='upper left')\n",
    "\n",
    "plt.tight_layout()\n",
    "plt.show()\n"
   ]
  },
  {
   "cell_type": "code",
   "execution_count": 30,
   "metadata": {
    "id": "AkFaY-oJC2-D"
   },
   "outputs": [],
   "source": [
    "#Training and Validation Accuracy"
   ]
  },
  {
   "cell_type": "code",
   "execution_count": 31,
   "metadata": {
    "colab": {
     "base_uri": "https://localhost:8080/",
     "height": 487
    },
    "id": "7zjj_YlIC7lW",
    "outputId": "5531e794-d100-4b50-b480-929201cf237f"
   },
   "outputs": [
    {
     "data": {
      "image/png": "[encoded data removed]",
      "text/plain": [
       "<Figure size 640x480 with 1 Axes>"
      ]
     },
     "metadata": {},
     "output_type": "display_data"
    }
   ],
   "source": [
    "plt.subplot(1, 2, 2)\n",
    "plt.plot(range(1, num_epochs + 1), train_accuracies, 'r', label='Train Accuracy')\n",
    "plt.plot(range(1, num_epochs + 1), val_accuracies, 'b', label='Validation Accuracy')\n",
    "plt.xlabel('Epochs')\n",
    "plt.ylabel('Accuracy (%)')\n",
    "plt.title('Training and Validation Accuracy')\n",
    "plt.legend()\n",
    "\n",
    "plt.tight_layout()\n",
    "plt.show()"
   ]
  },
  {
   "cell_type": "code",
   "execution_count": 32,
   "metadata": {
    "id": "H3ligbttDEhX"
   },
   "outputs": [],
   "source": [
    "#Training and Validation Loss"
   ]
  },
  {
   "cell_type": "code",
   "execution_count": 33,
   "metadata": {
    "colab": {
     "base_uri": "https://localhost:8080/",
     "height": 427
    },
    "id": "WTLQDfa4DFy8",
    "outputId": "a05ffc51-26ef-4931-969a-fe4656fec436"
   },
   "outputs": [
    {
     "data": {
      "text/plain": [
       "<matplotlib.legend.Legend at 0x788280b6e170>"
      ]
     },
     "execution_count": 33,
     "metadata": {},
     "output_type": "execute_result"
    },
    {
     "data": {
      "image/png": "[encoded data removed]",
      "text/plain": [
       "<Figure size 1200x400 with 1 Axes>"
      ]
     },
     "metadata": {},
     "output_type": "display_data"
    }
   ],
   "source": [
    "plt.figure(figsize=(12, 4))\n",
    "plt.subplot(1, 2, 1)\n",
    "plt.plot(range(1, num_epochs + 1), train_losses, 'r', label='Train Loss')\n",
    "plt.plot(range(1, num_epochs + 1), val_losses, 'b', label='Validation Loss')\n",
    "plt.xlabel('Epochs')\n",
    "plt.ylabel('Loss')\n",
    "plt.title('Training and Validation Loss')\n",
    "plt.legend()"
   ]
  },
  {
   "cell_type": "code",
   "execution_count": 34,
   "metadata": {
    "id": "F36QQKxeDLHh"
   },
   "outputs": [],
   "source": [
    "#Evaluation on the validation set"
   ]
  },
  {
   "cell_type": "code",
   "execution_count": 35,
   "metadata": {
    "id": "twxT-ibkDMtP"
   },
   "outputs": [],
   "source": [
    "cnn_model.eval()\n",
    "val_preds = []\n",
    "val_true = []\n",
    "\n",
    "for data, labels in val_loader:\n",
    "    data, labels = data.to(device), labels.to(device)\n",
    "    with torch.no_grad():\n",
    "        outputs = cnn_model(data)\n",
    "    _, predicted = torch.max(outputs, 1)\n",
    "    val_preds.extend(predicted.cpu().numpy())\n",
    "    val_true.extend(labels.cpu().numpy())"
   ]
  },
  {
   "cell_type": "code",
   "execution_count": 36,
   "metadata": {
    "id": "8ucuxufsDSyC"
   },
   "outputs": [],
   "source": [
    "#Calculate evaluation metrics"
   ]
  },
  {
   "cell_type": "code",
   "execution_count": 37,
   "metadata": {
    "colab": {
     "base_uri": "https://localhost:8080/"
    },
    "id": "1opBZBhRDTs6",
    "outputId": "2f97f418-4f1c-4fb5-d696-95c0ce03d180"
   },
   "outputs": [
    {
     "name": "stdout",
     "output_type": "stream",
     "text": [
      "Validation Accuracy: 0.7276565798733287\n",
      "Validation Report:\n",
      "               precision    recall  f1-score   support\n",
      "\n",
      "       anger       0.84      0.57      0.68       327\n",
      "        fear       0.86      0.72      0.78       432\n",
      "         joy       0.87      0.78      0.83       352\n",
      "     sadness       0.50      0.85      0.63       310\n",
      "\n",
      "    accuracy                           0.73      1421\n",
      "   macro avg       0.77      0.73      0.73      1421\n",
      "weighted avg       0.78      0.73      0.74      1421\n",
      "\n"
     ]
    }
   ],
   "source": [
    "# Calculate evaluation metrics\n",
    "from sklearn.metrics import accuracy_score, classification_report\n",
    "\n",
    "val_accuracy = accuracy_score(val_true, val_preds)\n",
    "val_report = classification_report(val_true, val_preds, target_names=label_encoder.classes_)\n",
    "\n",
    "print(f\"Validation Accuracy: {val_accuracy}\")\n",
    "print(\"Validation Report:\\n\", val_report)"
   ]
  },
  {
   "cell_type": "code",
   "execution_count": 38,
   "metadata": {
    "colab": {
     "base_uri": "https://localhost:8080/",
     "height": 564
    },
    "id": "FzerxplRDWNr",
    "outputId": "800cda00-427e-4b34-fa32-b884ec7ff684"
   },
   "outputs": [
    {
     "data": {
      "image/png": "[encoded data removed]",
      "text/plain": [
       "<Figure size 800x600 with 2 Axes>"
      ]
     },
     "metadata": {},
     "output_type": "display_data"
    }
   ],
   "source": [
    "# Evaluate the model and get predicted labels\n",
    "cnn_model.eval()\n",
    "val_preds = []\n",
    "val_true = []\n",
    "\n",
    "for data, labels in val_loader:\n",
    "    data, labels = data.to(device), labels.to(device)\n",
    "    with torch.no_grad():\n",
    "        outputs = cnn_model(data)\n",
    "    _, predicted = torch.max(outputs, 1)\n",
    "    val_preds.extend(predicted.cpu().numpy())\n",
    "    val_true.extend(labels.cpu().numpy())\n",
    "\n",
    "# Calculate the confusion matrix\n",
    "conf_matrix = confusion_matrix(val_true, val_preds)\n",
    "\n",
    "# Plot the confusion matrix using seaborn\n",
    "plt.figure(figsize=(8, 6))\n",
    "sns.heatmap(conf_matrix, annot=True, fmt=\"d\", cmap=\"Blues\", xticklabels=label_encoder.classes_, yticklabels=label_encoder.classes_)\n",
    "plt.xlabel(\"Predicted\")\n",
    "plt.ylabel(\"True\")\n",
    "plt.title(\"Confusion Matrix\")\n",
    "plt.show()\n"
   ]
  }
 ],
 "metadata": {
  "accelerator": "GPU",
  "colab": {
   "gpuType": "T4",
   "provenance": []
  },
  "kernelspec": {
   "display_name": "Python 3 (ipykernel)",
   "language": "python",
   "name": "python3"
  },
  "language_info": {
   "codemirror_mode": {
    "name": "ipython",
    "version": 3
   },
   "file_extension": ".py",
   "mimetype": "text/x-python",
   "name": "python",
   "nbconvert_exporter": "python",
   "pygments_lexer": "ipython3",
   "version": "3.11.5"
  }
 },
 "nbformat": 4,
 "nbformat_minor": 1
}
